{
 "cells": [
  {
   "cell_type": "code",
   "execution_count": 111,
   "metadata": {},
   "outputs": [],
   "source": [
    "import pandas_datareader.data as web\n",
    "import pandas as pd\n",
    "import numpy as np\n",
    "\n",
    "from matplotlib import pyplot as plt\n",
    "\n",
    "import seaborn as sns\n",
    "sns.set_style('darkgrid')\n",
    "sns.set_palette('viridis')\n",
    "\n",
    "from datetime import datetime\n",
    "\n",
    "from sklearn import linear_model "
   ]
  },
  {
   "cell_type": "code",
   "execution_count": 89,
   "metadata": {},
   "outputs": [],
   "source": [
    "tickers = list(pd.read_csv(\"tickers.csv\").Ticker)\n",
    "profiles = pd.read_csv(\"profiles.csv\").set_index('symbol')\n",
    "quotes = pd.read_csv(\"SP500.csv\").set_index('symbol').drop(\"Unnamed: 0\",axis =1)"
   ]
  },
  {
   "cell_type": "markdown",
   "metadata": {},
   "source": [
    "# Data Inspection\n",
    "First lets take a look at one stock before we format the whole lot. We'll choose Alphabet. Lets first take a look at the company profile:"
   ]
  },
  {
   "cell_type": "code",
   "execution_count": 159,
   "metadata": {},
   "outputs": [
    {
     "data": {
      "text/plain": [
       "Unnamed: 0                                                         204\n",
       "price                                                          2092.91\n",
       "beta                                                           1.02276\n",
       "volAvg                                                     1.62444e+06\n",
       "mktCap                                                   1407998890000\n",
       "lastDiv                                                              0\n",
       "range                                                1013.536-2123.547\n",
       "changes                                                          -5.09\n",
       "companyName                                              Alphabet Inc.\n",
       "currency                                                           USD\n",
       "cik                                                        1.65204e+06\n",
       "isin                                                               NaN\n",
       "cusip                                                              NaN\n",
       "exchange                                          Nasdaq Global Select\n",
       "exchangeShortName                                               NASDAQ\n",
       "industry                                Internet Content & Information\n",
       "website                                             http://www.abc.xyz\n",
       "description          Alphabet Inc. provides online advertising serv...\n",
       "ceo                                                  Mr. Sundar Pichai\n",
       "sector                                          Communication Services\n",
       "country                                                             US\n",
       "fullTimeEmployees                                               132121\n",
       "phone                                                     650-253-0000\n",
       "address                                      1600 Amphitheatre Parkway\n",
       "city                                                     Mountain View\n",
       "state                                                               CA\n",
       "zip                                                              94043\n",
       "dcfDiff                                                         376.88\n",
       "dcf                                                            1641.53\n",
       "image                https://financialmodelingprep.com/image-stock/...\n",
       "ipoDate                                                            NaN\n",
       "defaultImage                                                     False\n",
       "Name: GOOG, dtype: object"
      ]
     },
     "execution_count": 159,
     "metadata": {},
     "output_type": "execute_result"
    }
   ],
   "source": [
    "tick = 'GOOG'\n",
    "profiles.loc[tick]"
   ]
  },
  {
   "cell_type": "markdown",
   "metadata": {},
   "source": [
    "next, we can load in the company's key metrics"
   ]
  },
  {
   "cell_type": "code",
   "execution_count": 160,
   "metadata": {},
   "outputs": [
    {
     "data": {
      "text/html": [
       "<div>\n",
       "<style scoped>\n",
       "    .dataframe tbody tr th:only-of-type {\n",
       "        vertical-align: middle;\n",
       "    }\n",
       "\n",
       "    .dataframe tbody tr th {\n",
       "        vertical-align: top;\n",
       "    }\n",
       "\n",
       "    .dataframe thead th {\n",
       "        text-align: right;\n",
       "    }\n",
       "</style>\n",
       "<table border=\"1\" class=\"dataframe\">\n",
       "  <thead>\n",
       "    <tr style=\"text-align: right;\">\n",
       "      <th></th>\n",
       "      <th>date</th>\n",
       "      <th>Revenue per Share</th>\n",
       "      <th>Net Income per Share</th>\n",
       "      <th>Operating Cash Flow per Share</th>\n",
       "      <th>Free Cash Flow per Share</th>\n",
       "      <th>Cash per Share</th>\n",
       "      <th>Book Value per Share</th>\n",
       "      <th>Tangible Book Value per Share</th>\n",
       "      <th>Shareholders Equity per Share</th>\n",
       "      <th>Interest Debt per Share</th>\n",
       "      <th>...</th>\n",
       "      <th>Average Payables</th>\n",
       "      <th>Average Inventory</th>\n",
       "      <th>Days Sales Outstanding</th>\n",
       "      <th>Days Payables Outstanding</th>\n",
       "      <th>Days of Inventory on Hand</th>\n",
       "      <th>Receivables Turnover</th>\n",
       "      <th>Payables Turnover</th>\n",
       "      <th>Inventory Turnover</th>\n",
       "      <th>ROE</th>\n",
       "      <th>Capex per Share</th>\n",
       "    </tr>\n",
       "  </thead>\n",
       "  <tbody>\n",
       "    <tr>\n",
       "      <th>0</th>\n",
       "      <td>2019-12-31</td>\n",
       "      <td>233.715419</td>\n",
       "      <td>49.590000</td>\n",
       "      <td>78.724829</td>\n",
       "      <td>44.722403</td>\n",
       "      <td>26.710416</td>\n",
       "      <td>290.874670</td>\n",
       "      <td>365.764335</td>\n",
       "      <td>290.874670</td>\n",
       "      <td>6.720201</td>\n",
       "      <td>...</td>\n",
       "      <td>5.561000e+09</td>\n",
       "      <td>9.990000e+08</td>\n",
       "      <td>61.996577</td>\n",
       "      <td>28.231960</td>\n",
       "      <td>5.071701</td>\n",
       "      <td>5.887422</td>\n",
       "      <td>12.928610</td>\n",
       "      <td>71.967968</td>\n",
       "      <td>0.170486</td>\n",
       "      <td>-34.002426</td>\n",
       "    </tr>\n",
       "    <tr>\n",
       "      <th>1</th>\n",
       "      <td>2018-12-31</td>\n",
       "      <td>194.542753</td>\n",
       "      <td>43.703477</td>\n",
       "      <td>68.209901</td>\n",
       "      <td>32.464790</td>\n",
       "      <td>23.747130</td>\n",
       "      <td>252.569015</td>\n",
       "      <td>302.415095</td>\n",
       "      <td>252.569015</td>\n",
       "      <td>5.866754</td>\n",
       "      <td>...</td>\n",
       "      <td>4.969500e+09</td>\n",
       "      <td>1.053000e+09</td>\n",
       "      <td>56.537798</td>\n",
       "      <td>26.834540</td>\n",
       "      <td>6.785252</td>\n",
       "      <td>6.455858</td>\n",
       "      <td>13.601873</td>\n",
       "      <td>53.793135</td>\n",
       "      <td>0.173036</td>\n",
       "      <td>-35.745110</td>\n",
       "    </tr>\n",
       "    <tr>\n",
       "      <th>2</th>\n",
       "      <td>2017-12-31</td>\n",
       "      <td>157.557591</td>\n",
       "      <td>17.996430</td>\n",
       "      <td>52.717231</td>\n",
       "      <td>33.978885</td>\n",
       "      <td>15.229170</td>\n",
       "      <td>216.750237</td>\n",
       "      <td>252.785737</td>\n",
       "      <td>216.750237</td>\n",
       "      <td>5.796039</td>\n",
       "      <td>...</td>\n",
       "      <td>4.349000e+09</td>\n",
       "      <td>8.740000e+08</td>\n",
       "      <td>61.587885</td>\n",
       "      <td>25.119123</td>\n",
       "      <td>5.997521</td>\n",
       "      <td>5.926490</td>\n",
       "      <td>14.530762</td>\n",
       "      <td>60.858478</td>\n",
       "      <td>0.083028</td>\n",
       "      <td>-18.738345</td>\n",
       "    </tr>\n",
       "    <tr>\n",
       "      <th>3</th>\n",
       "      <td>2016-12-31</td>\n",
       "      <td>129.198833</td>\n",
       "      <td>27.877247</td>\n",
       "      <td>51.575341</td>\n",
       "      <td>36.959751</td>\n",
       "      <td>18.488463</td>\n",
       "      <td>198.990706</td>\n",
       "      <td>211.422258</td>\n",
       "      <td>198.990706</td>\n",
       "      <td>5.809310</td>\n",
       "      <td>...</td>\n",
       "      <td>3.801000e+09</td>\n",
       "      <td>6.335000e+08</td>\n",
       "      <td>57.544754</td>\n",
       "      <td>21.201121</td>\n",
       "      <td>2.783881</td>\n",
       "      <td>6.342889</td>\n",
       "      <td>17.216071</td>\n",
       "      <td>131.111940</td>\n",
       "      <td>0.140093</td>\n",
       "      <td>-14.615589</td>\n",
       "    </tr>\n",
       "    <tr>\n",
       "      <th>4</th>\n",
       "      <td>2015-12-31</td>\n",
       "      <td>108.220167</td>\n",
       "      <td>23.592571</td>\n",
       "      <td>38.347308</td>\n",
       "      <td>23.987993</td>\n",
       "      <td>23.882643</td>\n",
       "      <td>173.655348</td>\n",
       "      <td>184.354841</td>\n",
       "      <td>173.655348</td>\n",
       "      <td>5.915460</td>\n",
       "      <td>...</td>\n",
       "      <td>3.746000e+09</td>\n",
       "      <td>NaN</td>\n",
       "      <td>67.700396</td>\n",
       "      <td>25.025387</td>\n",
       "      <td>0.000000</td>\n",
       "      <td>5.391401</td>\n",
       "      <td>14.585189</td>\n",
       "      <td>NaN</td>\n",
       "      <td>0.135859</td>\n",
       "      <td>-14.359315</td>\n",
       "    </tr>\n",
       "  </tbody>\n",
       "</table>\n",
       "<p>5 rows × 58 columns</p>\n",
       "</div>"
      ],
      "text/plain": [
       "         date  Revenue per Share  Net Income per Share  \\\n",
       "0  2019-12-31         233.715419             49.590000   \n",
       "1  2018-12-31         194.542753             43.703477   \n",
       "2  2017-12-31         157.557591             17.996430   \n",
       "3  2016-12-31         129.198833             27.877247   \n",
       "4  2015-12-31         108.220167             23.592571   \n",
       "\n",
       "   Operating Cash Flow per Share  Free Cash Flow per Share  Cash per Share  \\\n",
       "0                      78.724829                 44.722403       26.710416   \n",
       "1                      68.209901                 32.464790       23.747130   \n",
       "2                      52.717231                 33.978885       15.229170   \n",
       "3                      51.575341                 36.959751       18.488463   \n",
       "4                      38.347308                 23.987993       23.882643   \n",
       "\n",
       "   Book Value per Share  Tangible Book Value per Share  \\\n",
       "0            290.874670                     365.764335   \n",
       "1            252.569015                     302.415095   \n",
       "2            216.750237                     252.785737   \n",
       "3            198.990706                     211.422258   \n",
       "4            173.655348                     184.354841   \n",
       "\n",
       "   Shareholders Equity per Share  Interest Debt per Share  ...  \\\n",
       "0                     290.874670                 6.720201  ...   \n",
       "1                     252.569015                 5.866754  ...   \n",
       "2                     216.750237                 5.796039  ...   \n",
       "3                     198.990706                 5.809310  ...   \n",
       "4                     173.655348                 5.915460  ...   \n",
       "\n",
       "   Average Payables  Average Inventory  Days Sales Outstanding  \\\n",
       "0      5.561000e+09       9.990000e+08               61.996577   \n",
       "1      4.969500e+09       1.053000e+09               56.537798   \n",
       "2      4.349000e+09       8.740000e+08               61.587885   \n",
       "3      3.801000e+09       6.335000e+08               57.544754   \n",
       "4      3.746000e+09                NaN               67.700396   \n",
       "\n",
       "   Days Payables Outstanding  Days of Inventory on Hand  Receivables Turnover  \\\n",
       "0                  28.231960                   5.071701              5.887422   \n",
       "1                  26.834540                   6.785252              6.455858   \n",
       "2                  25.119123                   5.997521              5.926490   \n",
       "3                  21.201121                   2.783881              6.342889   \n",
       "4                  25.025387                   0.000000              5.391401   \n",
       "\n",
       "   Payables Turnover  Inventory Turnover       ROE  Capex per Share  \n",
       "0          12.928610           71.967968  0.170486       -34.002426  \n",
       "1          13.601873           53.793135  0.173036       -35.745110  \n",
       "2          14.530762           60.858478  0.083028       -18.738345  \n",
       "3          17.216071          131.111940  0.140093       -14.615589  \n",
       "4          14.585189                 NaN  0.135859       -14.359315  \n",
       "\n",
       "[5 rows x 58 columns]"
      ]
     },
     "execution_count": 160,
     "metadata": {},
     "output_type": "execute_result"
    }
   ],
   "source": [
    "df = pd.read_csv(\"company-key-metrics/SP500-{}-company-key-metrics.csv\".format(tick)).drop(\"Unnamed: 0\", axis=1)\n",
    "df"
   ]
  },
  {
   "cell_type": "markdown",
   "metadata": {},
   "source": [
    "By inspection we can see we have data from the start of 2010 to the end of 2019. We can also get the column values using `df.columns`"
   ]
  },
  {
   "cell_type": "code",
   "execution_count": 161,
   "metadata": {},
   "outputs": [
    {
     "data": {
      "text/plain": [
       "Index(['date', 'Revenue per Share', 'Net Income per Share',\n",
       "       'Operating Cash Flow per Share', 'Free Cash Flow per Share',\n",
       "       'Cash per Share', 'Book Value per Share',\n",
       "       'Tangible Book Value per Share', 'Shareholders Equity per Share',\n",
       "       'Interest Debt per Share', 'Market Cap', 'Enterprise Value', 'PE ratio',\n",
       "       'Price to Sales Ratio', 'POCF ratio', 'PFCF ratio', 'PB ratio',\n",
       "       'PTB ratio', 'EV to Sales', 'Enterprise Value over EBITDA',\n",
       "       'EV to Operating cash flow', 'EV to Free cash flow', 'Earnings Yield',\n",
       "       'Free Cash Flow Yield', 'Debt to Equity', 'Debt to Assets',\n",
       "       'Net Debt to EBITDA', 'Current ratio', 'Interest Coverage',\n",
       "       'Income Quality', 'Dividend Yield', 'Payout Ratio', 'SG&A to Revenue',\n",
       "       'R&D to Revenue', 'Intangibles to Total Assets',\n",
       "       'Capex to Operating Cash Flow', 'Capex to Revenue',\n",
       "       'Capex to Depreciation', 'Stock-based compensation to Revenue',\n",
       "       'Graham Number', 'ROIC', 'Return on Tangible Assets', 'Graham Net-Net',\n",
       "       'Working Capital', 'Tangible Asset Value', 'Net Current Asset Value',\n",
       "       'Invested Capital', 'Average Receivables', 'Average Payables',\n",
       "       'Average Inventory', 'Days Sales Outstanding',\n",
       "       'Days Payables Outstanding', 'Days of Inventory on Hand',\n",
       "       'Receivables Turnover', 'Payables Turnover', 'Inventory Turnover',\n",
       "       'ROE', 'Capex per Share'],\n",
       "      dtype='object')"
      ]
     },
     "execution_count": 161,
     "metadata": {},
     "output_type": "execute_result"
    }
   ],
   "source": [
    "df.columns"
   ]
  },
  {
   "cell_type": "markdown",
   "metadata": {},
   "source": [
    "we also have general quarterly data from the S&P500"
   ]
  },
  {
   "cell_type": "code",
   "execution_count": null,
   "metadata": {},
   "outputs": [],
   "source": []
  },
  {
   "cell_type": "markdown",
   "metadata": {},
   "source": [
    "### Calculating the SGR\n",
    "straight away we can calulate the sustainable growth rate (SGR), which is given as:\n",
    ">_**SGR** = Return on Equity * (1 – Dividend payout ratio)_\n",
    "\n",
    "We can then average over the 10 years we get in the statement to get a more stable projection for growth"
   ]
  },
  {
   "cell_type": "code",
   "execution_count": 162,
   "metadata": {},
   "outputs": [],
   "source": [
    "df['SGR'] = df.apply(lambda row: row.ROE*(1-row['Payout Ratio']),axis = 1)"
   ]
  },
  {
   "cell_type": "code",
   "execution_count": 163,
   "metadata": {},
   "outputs": [
    {
     "data": {
      "text/plain": [
       "0.14050036064315002"
      ]
     },
     "execution_count": 163,
     "metadata": {},
     "output_type": "execute_result"
    }
   ],
   "source": [
    "SGR = df.SGR.mean()\n",
    "SGR"
   ]
  },
  {
   "cell_type": "markdown",
   "metadata": {},
   "source": [
    "this gives an average growth rate of 14.1%"
   ]
  },
  {
   "cell_type": "markdown",
   "metadata": {},
   "source": [
    "### Finding the risk-free rate of return\n",
    "We can estimate the current risk free rate of return from US treasury 1 year T-bills"
   ]
  },
  {
   "cell_type": "code",
   "execution_count": 166,
   "metadata": {},
   "outputs": [
    {
     "name": "stdout",
     "output_type": "stream",
     "text": [
      "CURRENT RISK FREE RATE: 0.1%\n"
     ]
    }
   ],
   "source": [
    "start = datetime(2019, 2, 1)\n",
    "end =datetime(2021, 2, 1)\n",
    "\n",
    "# get data from FED\n",
    "Treasury = web.DataReader(['TB1YR'], 'fred', start, end)\n",
    "RF = float(Treasury.iloc[-1])\n",
    "RF = RF/100\n",
    "print(\"CURRENT RISK FREE RATE: {}%\".format(100*RF))"
   ]
  },
  {
   "cell_type": "markdown",
   "metadata": {},
   "source": [
    "the current rate is 0.1%, this is much much lower normal."
   ]
  },
  {
   "cell_type": "code",
   "execution_count": 167,
   "metadata": {},
   "outputs": [
    {
     "data": {
      "text/html": [
       "<div>\n",
       "<style scoped>\n",
       "    .dataframe tbody tr th:only-of-type {\n",
       "        vertical-align: middle;\n",
       "    }\n",
       "\n",
       "    .dataframe tbody tr th {\n",
       "        vertical-align: top;\n",
       "    }\n",
       "\n",
       "    .dataframe thead th {\n",
       "        text-align: right;\n",
       "    }\n",
       "</style>\n",
       "<table border=\"1\" class=\"dataframe\">\n",
       "  <thead>\n",
       "    <tr style=\"text-align: right;\">\n",
       "      <th>DATE</th>\n",
       "      <th>2019-02-01</th>\n",
       "      <th>2019-03-01</th>\n",
       "      <th>2019-04-01</th>\n",
       "      <th>2019-05-01</th>\n",
       "      <th>2019-06-01</th>\n",
       "      <th>2019-07-01</th>\n",
       "      <th>2019-08-01</th>\n",
       "      <th>2019-09-01</th>\n",
       "      <th>2019-10-01</th>\n",
       "      <th>2019-11-01</th>\n",
       "      <th>...</th>\n",
       "      <th>2020-04-01</th>\n",
       "      <th>2020-05-01</th>\n",
       "      <th>2020-06-01</th>\n",
       "      <th>2020-07-01</th>\n",
       "      <th>2020-08-01</th>\n",
       "      <th>2020-09-01</th>\n",
       "      <th>2020-10-01</th>\n",
       "      <th>2020-11-01</th>\n",
       "      <th>2020-12-01</th>\n",
       "      <th>2021-01-01</th>\n",
       "    </tr>\n",
       "  </thead>\n",
       "  <tbody>\n",
       "    <tr>\n",
       "      <th>TB1YR</th>\n",
       "      <td>2.47</td>\n",
       "      <td>2.41</td>\n",
       "      <td>2.34</td>\n",
       "      <td>2.27</td>\n",
       "      <td>1.94</td>\n",
       "      <td>1.91</td>\n",
       "      <td>1.73</td>\n",
       "      <td>1.75</td>\n",
       "      <td>1.57</td>\n",
       "      <td>1.53</td>\n",
       "      <td>...</td>\n",
       "      <td>0.18</td>\n",
       "      <td>0.16</td>\n",
       "      <td>0.18</td>\n",
       "      <td>0.15</td>\n",
       "      <td>0.13</td>\n",
       "      <td>0.13</td>\n",
       "      <td>0.13</td>\n",
       "      <td>0.12</td>\n",
       "      <td>0.1</td>\n",
       "      <td>0.1</td>\n",
       "    </tr>\n",
       "  </tbody>\n",
       "</table>\n",
       "<p>1 rows × 24 columns</p>\n",
       "</div>"
      ],
      "text/plain": [
       "DATE   2019-02-01  2019-03-01  2019-04-01  2019-05-01  2019-06-01  2019-07-01  \\\n",
       "TB1YR        2.47        2.41        2.34        2.27        1.94        1.91   \n",
       "\n",
       "DATE   2019-08-01  2019-09-01  2019-10-01  2019-11-01  ...  2020-04-01  \\\n",
       "TB1YR        1.73        1.75        1.57        1.53  ...        0.18   \n",
       "\n",
       "DATE   2020-05-01  2020-06-01  2020-07-01  2020-08-01  2020-09-01  2020-10-01  \\\n",
       "TB1YR        0.16        0.18        0.15        0.13        0.13        0.13   \n",
       "\n",
       "DATE   2020-11-01  2020-12-01  2021-01-01  \n",
       "TB1YR        0.12         0.1         0.1  \n",
       "\n",
       "[1 rows x 24 columns]"
      ]
     },
     "execution_count": 167,
     "metadata": {},
     "output_type": "execute_result"
    }
   ],
   "source": [
    "Treasury.T"
   ]
  },
  {
   "cell_type": "markdown",
   "metadata": {},
   "source": [
    "### CAPM Cost of Equity\n",
    "because not all companies pay dividends, we may want to use the Capital Asset Pricing Model (CAPM) for calculating the cost of equity. First we can get `beta`, which is  a measure of the volatility of a security compared to the market as a whole"
   ]
  },
  {
   "cell_type": "code",
   "execution_count": 171,
   "metadata": {},
   "outputs": [],
   "source": [
    "beta = profiles.loc[tick].beta"
   ]
  },
  {
   "cell_type": "markdown",
   "metadata": {},
   "source": [
    "once we have `beta` we'll need the yearly return for the market over the past year"
   ]
  },
  {
   "cell_type": "code",
   "execution_count": 169,
   "metadata": {},
   "outputs": [
    {
     "name": "stdout",
     "output_type": "stream",
     "text": [
      "YEARLY ROE FOR THE S&P500: 0.1615736921807862\n"
     ]
    }
   ],
   "source": [
    "start = datetime(2020, 2, 1)\n",
    "end = datetime(2021, 2, 1) \n",
    "SP500 = web.DataReader(['sp500'], 'fred', start, end)\n",
    "#Drop all Not a number values using drop method.\n",
    "SP500.dropna(inplace = True)\n",
    "SP500yearlyreturn = (SP500['sp500'].iloc[-1]/ SP500['sp500'].iloc[0])-1\n",
    "print(\"YEARLY ROE FOR THE S&P500: {}\".format(SP500yearlyreturn))"
   ]
  },
  {
   "cell_type": "markdown",
   "metadata": {},
   "source": [
    "we can now work out the CAPM cost of equity"
   ]
  },
  {
   "cell_type": "code",
   "execution_count": 170,
   "metadata": {},
   "outputs": [
    {
     "name": "stdout",
     "output_type": "stream",
     "text": [
      "COST OF EQUITY FOR GOOG: 0.1652291522832818\n"
     ]
    }
   ],
   "source": [
    "CAPM = RF+(beta*(SP500yearlyreturn - RF))\n",
    "print(\"COST OF EQUITY FOR {}: {}\".format(tick,CAPM))"
   ]
  },
  {
   "cell_type": "code",
   "execution_count": 150,
   "metadata": {},
   "outputs": [],
   "source": [
    "PPS = quotes.loc[tick].price\n",
    "Div_yield = df.iloc[0]['Dividend Yield']\n",
    "Div = PPS*Div_yield"
   ]
  }
 ],
 "metadata": {
  "kernelspec": {
   "display_name": "Python 3",
   "language": "python",
   "name": "python3"
  },
  "language_info": {
   "codemirror_mode": {
    "name": "ipython",
    "version": 3
   },
   "file_extension": ".py",
   "mimetype": "text/x-python",
   "name": "python",
   "nbconvert_exporter": "python",
   "pygments_lexer": "ipython3",
   "version": "3.7.6"
  }
 },
 "nbformat": 4,
 "nbformat_minor": 4
}
