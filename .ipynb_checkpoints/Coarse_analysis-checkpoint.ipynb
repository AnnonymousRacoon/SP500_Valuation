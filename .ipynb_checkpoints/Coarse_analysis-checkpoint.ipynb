{
 "cells": [
  {
   "cell_type": "code",
   "execution_count": 321,
   "metadata": {},
   "outputs": [],
   "source": [
    "import pandas_datareader.data as web\n",
    "import pandas as pd\n",
    "import numpy as np\n",
    "\n",
    "from matplotlib import pyplot as plt\n",
    "import plotly.graph_objects as go\n",
    "import plotly.express as px\n",
    "import seaborn as sns\n",
    "sns.set_style('darkgrid')\n",
    "sns.set_palette('viridis')\n",
    "\n",
    "from datetime import datetime\n",
    "\n",
    "from sklearn.model_selection import train_test_split\n",
    "from sklearn.linear_model import LinearRegression\n",
    "\n",
    "from sklearn.preprocessing import PolynomialFeatures\n",
    "from sklearn.pipeline import make_pipeline\n",
    "from sklearn.linear_model import LinearRegression\n"
   ]
  },
  {
   "cell_type": "code",
   "execution_count": 260,
   "metadata": {},
   "outputs": [],
   "source": [
    "Quarterly = pd.read_csv(\"SP_Quarterly.csv\").iloc[::-1]"
   ]
  },
  {
   "cell_type": "code",
   "execution_count": 261,
   "metadata": {},
   "outputs": [
    {
     "data": {
      "text/html": [
       "<div>\n",
       "<style scoped>\n",
       "    .dataframe tbody tr th:only-of-type {\n",
       "        vertical-align: middle;\n",
       "    }\n",
       "\n",
       "    .dataframe tbody tr th {\n",
       "        vertical-align: top;\n",
       "    }\n",
       "\n",
       "    .dataframe thead th {\n",
       "        text-align: right;\n",
       "    }\n",
       "</style>\n",
       "<table border=\"1\" class=\"dataframe\">\n",
       "  <thead>\n",
       "    <tr style=\"text-align: right;\">\n",
       "      <th></th>\n",
       "      <th>DATE</th>\n",
       "      <th>OPERATING_EARNINGS_PER_SHARE</th>\n",
       "      <th>AS_REPORTED_EARNINGS_PER_SHARE</th>\n",
       "      <th>CASH_DIVIDENDS_PER_SHARE</th>\n",
       "      <th>SALES_PER_SHARE</th>\n",
       "      <th>BOOK_VAL_PER_SHARE</th>\n",
       "      <th>CAPEX_PER_SHARE</th>\n",
       "      <th>PRICE</th>\n",
       "      <th>DIVISOR</th>\n",
       "    </tr>\n",
       "  </thead>\n",
       "  <tbody>\n",
       "    <tr>\n",
       "      <th>132</th>\n",
       "      <td>NaN</td>\n",
       "      <td>NaN</td>\n",
       "      <td>NaN</td>\n",
       "      <td>NaN</td>\n",
       "      <td>NaN</td>\n",
       "      <td>NaN</td>\n",
       "      <td>NaN</td>\n",
       "      <td>NaN</td>\n",
       "      <td>NaN</td>\n",
       "    </tr>\n",
       "    <tr>\n",
       "      <th>131</th>\n",
       "      <td>31/03/1988</td>\n",
       "      <td>$5.48</td>\n",
       "      <td>$5.53</td>\n",
       "      <td>$2.24</td>\n",
       "      <td>NaN</td>\n",
       "      <td>NaN</td>\n",
       "      <td>NaN</td>\n",
       "      <td>258.89</td>\n",
       "      <td>6977.40</td>\n",
       "    </tr>\n",
       "    <tr>\n",
       "      <th>130</th>\n",
       "      <td>30/06/1988</td>\n",
       "      <td>$6.05</td>\n",
       "      <td>$6.22</td>\n",
       "      <td>$2.50</td>\n",
       "      <td>NaN</td>\n",
       "      <td>NaN</td>\n",
       "      <td>NaN</td>\n",
       "      <td>273.50</td>\n",
       "      <td>6956.73</td>\n",
       "    </tr>\n",
       "    <tr>\n",
       "      <th>129</th>\n",
       "      <td>30/09/1988</td>\n",
       "      <td>$6.22</td>\n",
       "      <td>$6.38</td>\n",
       "      <td>$2.46</td>\n",
       "      <td>NaN</td>\n",
       "      <td>NaN</td>\n",
       "      <td>NaN</td>\n",
       "      <td>271.91</td>\n",
       "      <td>6930.89</td>\n",
       "    </tr>\n",
       "    <tr>\n",
       "      <th>128</th>\n",
       "      <td>31/12/1988</td>\n",
       "      <td>$6.37</td>\n",
       "      <td>$5.62</td>\n",
       "      <td>$2.54</td>\n",
       "      <td>NaN</td>\n",
       "      <td>NaN</td>\n",
       "      <td>NaN</td>\n",
       "      <td>277.72</td>\n",
       "      <td>6829.56</td>\n",
       "    </tr>\n",
       "    <tr>\n",
       "      <th>...</th>\n",
       "      <td>...</td>\n",
       "      <td>...</td>\n",
       "      <td>...</td>\n",
       "      <td>...</td>\n",
       "      <td>...</td>\n",
       "      <td>...</td>\n",
       "      <td>...</td>\n",
       "      <td>...</td>\n",
       "      <td>...</td>\n",
       "    </tr>\n",
       "    <tr>\n",
       "      <th>4</th>\n",
       "      <td>31/12/2019</td>\n",
       "      <td>$39.18</td>\n",
       "      <td>$35.53</td>\n",
       "      <td>$15.21</td>\n",
       "      <td>$369.23</td>\n",
       "      <td>$914.49</td>\n",
       "      <td>$23.23</td>\n",
       "      <td>3,230.78</td>\n",
       "      <td>8282.73</td>\n",
       "    </tr>\n",
       "    <tr>\n",
       "      <th>3</th>\n",
       "      <td>31/03/2020</td>\n",
       "      <td>$19.50</td>\n",
       "      <td>$11.88</td>\n",
       "      <td>$15.32</td>\n",
       "      <td>$332.59</td>\n",
       "      <td>$885.59</td>\n",
       "      <td>$19.82</td>\n",
       "      <td>2,584.59</td>\n",
       "      <td>8289.27</td>\n",
       "    </tr>\n",
       "    <tr>\n",
       "      <th>2</th>\n",
       "      <td>30/06/2020</td>\n",
       "      <td>$26.79</td>\n",
       "      <td>$17.83</td>\n",
       "      <td>$14.35</td>\n",
       "      <td>$315.61</td>\n",
       "      <td>$901.97</td>\n",
       "      <td>$17.17</td>\n",
       "      <td>3,100.29</td>\n",
       "      <td>8269.11</td>\n",
       "    </tr>\n",
       "    <tr>\n",
       "      <th>1</th>\n",
       "      <td>30/09/2020</td>\n",
       "      <td>$37.90</td>\n",
       "      <td>$32.98</td>\n",
       "      <td>$13.97</td>\n",
       "      <td>$346.71</td>\n",
       "      <td>$920.34</td>\n",
       "      <td>$17.94</td>\n",
       "      <td>3,363.00</td>\n",
       "      <td>8286.67</td>\n",
       "    </tr>\n",
       "    <tr>\n",
       "      <th>0</th>\n",
       "      <td>31/12/2020</td>\n",
       "      <td>NaN</td>\n",
       "      <td>NaN</td>\n",
       "      <td>$14.64</td>\n",
       "      <td>NaN</td>\n",
       "      <td>NaN</td>\n",
       "      <td>NaN</td>\n",
       "      <td>3,756.07</td>\n",
       "      <td>8428.67</td>\n",
       "    </tr>\n",
       "  </tbody>\n",
       "</table>\n",
       "<p>133 rows × 9 columns</p>\n",
       "</div>"
      ],
      "text/plain": [
       "           DATE OPERATING_EARNINGS_PER_SHARE AS_REPORTED_EARNINGS_PER_SHARE  \\\n",
       "132         NaN                          NaN                            NaN   \n",
       "131  31/03/1988                       $5.48                          $5.53    \n",
       "130  30/06/1988                       $6.05                          $6.22    \n",
       "129  30/09/1988                       $6.22                          $6.38    \n",
       "128  31/12/1988                       $6.37                          $5.62    \n",
       "..          ...                          ...                            ...   \n",
       "4    31/12/2019                      $39.18                         $35.53    \n",
       "3    31/03/2020                      $19.50                         $11.88    \n",
       "2    30/06/2020                      $26.79                         $17.83    \n",
       "1    30/09/2020                      $37.90                         $32.98    \n",
       "0    31/12/2020                          NaN                            NaN   \n",
       "\n",
       "    CASH_DIVIDENDS_PER_SHARE SALES_PER_SHARE BOOK_VAL_PER_SHARE  \\\n",
       "132                      NaN             NaN                NaN   \n",
       "131                   $2.24              NaN                NaN   \n",
       "130                   $2.50              NaN                NaN   \n",
       "129                   $2.46              NaN                NaN   \n",
       "128                   $2.54              NaN                NaN   \n",
       "..                       ...             ...                ...   \n",
       "4                    $15.21         $369.23            $914.49    \n",
       "3                    $15.32         $332.59            $885.59    \n",
       "2                    $14.35         $315.61            $901.97    \n",
       "1                    $13.97         $346.71            $920.34    \n",
       "0                    $14.64              NaN                NaN   \n",
       "\n",
       "    CAPEX_PER_SHARE     PRICE  DIVISOR  \n",
       "132             NaN       NaN      NaN  \n",
       "131             NaN    258.89  6977.40  \n",
       "130             NaN    273.50  6956.73  \n",
       "129             NaN    271.91  6930.89  \n",
       "128             NaN    277.72  6829.56  \n",
       "..              ...       ...      ...  \n",
       "4           $23.23   3,230.78  8282.73  \n",
       "3           $19.82   2,584.59  8289.27  \n",
       "2           $17.17   3,100.29  8269.11  \n",
       "1           $17.94   3,363.00  8286.67  \n",
       "0               NaN  3,756.07  8428.67  \n",
       "\n",
       "[133 rows x 9 columns]"
      ]
     },
     "execution_count": 261,
     "metadata": {},
     "output_type": "execute_result"
    }
   ],
   "source": [
    "Quarterly"
   ]
  },
  {
   "cell_type": "markdown",
   "metadata": {},
   "source": [
    "## Data tidying\n",
    "We're going to be using the price and cash_dividends columns so we're going to need to drop null values for those columns. we also need to change the prices to numeric values, and it might help to have the dates as datetime objects"
   ]
  },
  {
   "cell_type": "code",
   "execution_count": 262,
   "metadata": {},
   "outputs": [],
   "source": [
    "currency_cols = ['OPERATING_EARNINGS_PER_SHARE',\n",
    "       'AS_REPORTED_EARNINGS_PER_SHARE', 'CASH_DIVIDENDS_PER_SHARE',\n",
    "       'SALES_PER_SHARE', 'BOOK_VAL_PER_SHARE', 'CAPEX_PER_SHARE']\n",
    "\n",
    "for col in currency_cols:\n",
    "    Quarterly[col] = Quarterly[col].apply(lambda e: eval(str(e)[2:].strip(\" \")) if str(e)[1] == '$' else e)\n",
    "    \n",
    "Quarterly.dropna(subset=['CASH_DIVIDENDS_PER_SHARE'],inplace = True)   \n",
    "Quarterly.PRICE = Quarterly.PRICE.apply(lambda e: eval(\"\".join(str(e).split(\",\"))))\n",
    "Quarterly.DIVISOR = pd.to_numeric(Quarterly.DIVISOR)\n",
    "\n",
    "\n",
    "\n",
    "# CONVERTS DATE STRING TO DATETIME OBJECT\n",
    "def to_dt_obj(date):\n",
    "    dmy = list(map(lambda x: int(x),date.split('/')))\n",
    "    return datetime(dmy[2],dmy[1],dmy[0])\n",
    "\n",
    "\n",
    "Quarterly.DATE = Quarterly.DATE.apply(lambda date: to_dt_obj(date))\n"
   ]
  },
  {
   "cell_type": "code",
   "execution_count": null,
   "metadata": {},
   "outputs": [],
   "source": []
  },
  {
   "cell_type": "markdown",
   "metadata": {},
   "source": [
    "we can check the data types to see if theyre how we want them"
   ]
  },
  {
   "cell_type": "code",
   "execution_count": 263,
   "metadata": {},
   "outputs": [
    {
     "data": {
      "text/plain": [
       "DATE                              datetime64[ns]\n",
       "OPERATING_EARNINGS_PER_SHARE             float64\n",
       "AS_REPORTED_EARNINGS_PER_SHARE           float64\n",
       "CASH_DIVIDENDS_PER_SHARE                 float64\n",
       "SALES_PER_SHARE                          float64\n",
       "BOOK_VAL_PER_SHARE                       float64\n",
       "CAPEX_PER_SHARE                          float64\n",
       "PRICE                                    float64\n",
       "DIVISOR                                  float64\n",
       "dtype: object"
      ]
     },
     "execution_count": 263,
     "metadata": {},
     "output_type": "execute_result"
    }
   ],
   "source": [
    "Quarterly.dtypes"
   ]
  },
  {
   "cell_type": "markdown",
   "metadata": {},
   "source": [
    "## Approximate Dividend Growth"
   ]
  },
  {
   "cell_type": "code",
   "execution_count": 264,
   "metadata": {},
   "outputs": [],
   "source": [
    "def range_slider(fig,buttons = None):\n",
    "    if not buttons:\n",
    "        buttons = [\n",
    "                dict(count=7,\n",
    "                     label=\"1w\",\n",
    "                     step=\"day\",\n",
    "                     stepmode=\"todate\"),\n",
    "                dict(count=14,\n",
    "                     label=\"2w\",\n",
    "                     step=\"day\",\n",
    "                     stepmode=\"todate\"),\n",
    "                dict(count=1,\n",
    "                     label=\"1m\",\n",
    "                     step=\"month\",\n",
    "                     stepmode=\"backward\"),\n",
    "                dict(step=\"all\")\n",
    "            ]\n",
    "    fig.update_layout(\n",
    "    xaxis=dict(\n",
    "        rangeselector=dict(\n",
    "            buttons=list(buttons)\n",
    "        ),\n",
    "        rangeslider=dict(\n",
    "            visible=True\n",
    "        ),\n",
    "        type=\"date\"\n",
    "    ))\n",
    "    \n",
    "buttons = [\n",
    "                dict(count=1,\n",
    "                     label=\"1y\",\n",
    "                     step=\"year\",\n",
    "                     stepmode=\"backward\"),\n",
    "                dict(count=5,\n",
    "                     label=\"5y\",\n",
    "                     step=\"year\",\n",
    "                     stepmode=\"backward\"),\n",
    "    \n",
    "                dict(step=\"all\")\n",
    "            ]"
   ]
  },
  {
   "cell_type": "code",
   "execution_count": 265,
   "metadata": {},
   "outputs": [],
   "source": [
    "Quarterly[\"ROLLING_AVERAGE_DIVIDENDS PER SHARE\"] = Quarterly.CASH_DIVIDENDS_PER_SHARE.rolling(window=10).mean()"
   ]
  },
  {
   "cell_type": "code",
   "execution_count": 266,
   "metadata": {},
   "outputs": [
    {
     "data": {
      "application/vnd.plotly.v1+json": {
       "config": {
        "plotlyServerURL": "https://plot.ly"
       },
       "data": [
        {
         "hovertemplate": "variable=CASH_DIVIDENDS_PER_SHARE<br>DATE=%{x}<br>Divident per share ($)=%{y}<extra></extra>",
         "legendgroup": "CASH_DIVIDENDS_PER_SHARE",
         "line": {
          "color": "#636efa",
          "dash": "solid"
         },
         "mode": "lines",
         "name": "CASH_DIVIDENDS_PER_SHARE",
         "orientation": "v",
         "showlegend": true,
         "type": "scatter",
         "x": [
          "1988-03-31T00:00:00",
          "1988-06-30T00:00:00",
          "1988-09-30T00:00:00",
          "1988-12-31T00:00:00",
          "1989-03-31T00:00:00",
          "1989-06-30T00:00:00",
          "1989-09-30T00:00:00",
          "1989-12-31T00:00:00",
          "1990-03-31T00:00:00",
          "1990-06-30T00:00:00",
          "1990-09-30T00:00:00",
          "1990-12-31T00:00:00",
          "1991-03-31T00:00:00",
          "1991-06-30T00:00:00",
          "1991-09-30T00:00:00",
          "1991-12-31T00:00:00",
          "1992-03-31T00:00:00",
          "1992-06-30T00:00:00",
          "1992-09-30T00:00:00",
          "1992-12-31T00:00:00",
          "1993-03-31T00:00:00",
          "1993-06-30T00:00:00",
          "1993-09-30T00:00:00",
          "1993-12-31T00:00:00",
          "1994-03-31T00:00:00",
          "1994-06-30T00:00:00",
          "1994-09-30T00:00:00",
          "1994-12-31T00:00:00",
          "1995-03-31T00:00:00",
          "1995-06-30T00:00:00",
          "1995-09-30T00:00:00",
          "1995-12-31T00:00:00",
          "1996-03-31T00:00:00",
          "1996-06-30T00:00:00",
          "1996-09-30T00:00:00",
          "1996-12-31T00:00:00",
          "1997-03-31T00:00:00",
          "1997-06-30T00:00:00",
          "1997-09-30T00:00:00",
          "1997-12-31T00:00:00",
          "1998-03-31T00:00:00",
          "1998-06-30T00:00:00",
          "1998-09-30T00:00:00",
          "1998-12-31T00:00:00",
          "1999-03-31T00:00:00",
          "1999-06-30T00:00:00",
          "1999-09-30T00:00:00",
          "1999-12-31T00:00:00",
          "2000-03-31T00:00:00",
          "2000-06-30T00:00:00",
          "2000-09-30T00:00:00",
          "2000-12-31T00:00:00",
          "2001-03-31T00:00:00",
          "2001-06-30T00:00:00",
          "2001-09-30T00:00:00",
          "2001-12-31T00:00:00",
          "2002-03-31T00:00:00",
          "2002-06-30T00:00:00",
          "2002-09-30T00:00:00",
          "2002-12-31T00:00:00",
          "2003-03-31T00:00:00",
          "2003-06-30T00:00:00",
          "2003-09-30T00:00:00",
          "2003-12-31T00:00:00",
          "2004-03-31T00:00:00",
          "2004-06-30T00:00:00",
          "2004-09-30T00:00:00",
          "2004-12-31T00:00:00",
          "2005-03-31T00:00:00",
          "2005-06-30T00:00:00",
          "2005-09-30T00:00:00",
          "2005-12-31T00:00:00",
          "2006-03-31T00:00:00",
          "2006-06-30T00:00:00",
          "2006-09-30T00:00:00",
          "2006-12-31T00:00:00",
          "2007-03-31T00:00:00",
          "2007-06-30T00:00:00",
          "2007-09-30T00:00:00",
          "2007-12-31T00:00:00",
          "2008-03-31T00:00:00",
          "2008-06-30T00:00:00",
          "2008-09-30T00:00:00",
          "2008-12-31T00:00:00",
          "2009-03-31T00:00:00",
          "2009-06-30T00:00:00",
          "2009-09-30T00:00:00",
          "2009-12-31T00:00:00",
          "2010-03-31T00:00:00",
          "2010-06-30T00:00:00",
          "2010-09-30T00:00:00",
          "2010-12-31T00:00:00",
          "2011-03-31T00:00:00",
          "2011-06-30T00:00:00",
          "2011-09-30T00:00:00",
          "2011-12-31T00:00:00",
          "2012-03-31T00:00:00",
          "2012-06-30T00:00:00",
          "2012-09-30T00:00:00",
          "2012-12-31T00:00:00",
          "2013-03-31T00:00:00",
          "2013-06-30T00:00:00",
          "2013-09-30T00:00:00",
          "2013-12-31T00:00:00",
          "2014-03-31T00:00:00",
          "2014-06-30T00:00:00",
          "2014-09-30T00:00:00",
          "2014-12-31T00:00:00",
          "2015-03-31T00:00:00",
          "2015-06-30T00:00:00",
          "2015-09-30T00:00:00",
          "2015-12-31T00:00:00",
          "2016-03-31T00:00:00",
          "2016-06-30T00:00:00",
          "2016-09-30T00:00:00",
          "2016-12-31T00:00:00",
          "2017-03-31T00:00:00",
          "2017-06-30T00:00:00",
          "2017-09-30T00:00:00",
          "2017-12-29T00:00:00",
          "2018-03-29T00:00:00",
          "2018-06-29T00:00:00",
          "2018-09-28T00:00:00",
          "2018-12-31T00:00:00",
          "2019-03-29T00:00:00",
          "2019-06-28T00:00:00",
          "2019-09-30T00:00:00",
          "2019-12-31T00:00:00",
          "2020-03-31T00:00:00",
          "2020-06-30T00:00:00",
          "2020-09-30T00:00:00",
          "2020-12-31T00:00:00"
         ],
         "xaxis": "x",
         "y": [
          2.24,
          2.5,
          2.46,
          2.54,
          2.5,
          2.86,
          2.83,
          2.86,
          2.77,
          3.21,
          3,
          3.12,
          2.79,
          3.24,
          3.13,
          3.04,
          2.91,
          3.24,
          3.2,
          3.03,
          3.01,
          3.28,
          3.2,
          3.09,
          3.14,
          3.41,
          3.29,
          3.34,
          3.14,
          3.6,
          3.5,
          3.55,
          3.45,
          3.77,
          3.89,
          3.79,
          3.61,
          3.87,
          4.06,
          3.95,
          3.76,
          4.18,
          4.26,
          4,
          4.01,
          4.18,
          4.45,
          4.05,
          4.08,
          4.12,
          4.09,
          3.98,
          3.78,
          3.84,
          4.14,
          3.98,
          3.77,
          4.15,
          3.9,
          4.26,
          3.92,
          4.09,
          4.32,
          5.06,
          4.56,
          4.66,
          4.88,
          5.33,
          5.34,
          5.36,
          5.43,
          6.08,
          5.91,
          6.02,
          6.09,
          6.87,
          6.52,
          6.69,
          6.9,
          7.62,
          7.09,
          7.1,
          7.04,
          7.15,
          5.96,
          5.44,
          5.35,
          5.66,
          5.46,
          5.58,
          5.66,
          6.03,
          6.16,
          6.49,
          6.5,
          7.28,
          7.09,
          7.45,
          7.77,
          8.93,
          7.95,
          8.61,
          8.91,
          9.52,
          9.19,
          9.76,
          10.02,
          10.47,
          10.55,
          10.69,
          10.79,
          11.35,
          11.04,
          11.28,
          11.36,
          12.02,
          11.72,
          12.12,
          12.31,
          12.78,
          12.79,
          13.1,
          13.66,
          14.19,
          13.98,
          14.24,
          14.8,
          15.21,
          15.32,
          14.35,
          13.97,
          14.64
         ],
         "yaxis": "y"
        },
        {
         "hovertemplate": "variable=ROLLING_AVERAGE_DIVIDENDS PER SHARE<br>DATE=%{x}<br>Divident per share ($)=%{y}<extra></extra>",
         "legendgroup": "ROLLING_AVERAGE_DIVIDENDS PER SHARE",
         "line": {
          "color": "#EF553B",
          "dash": "solid"
         },
         "mode": "lines",
         "name": "ROLLING_AVERAGE_DIVIDENDS PER SHARE",
         "orientation": "v",
         "showlegend": true,
         "type": "scatter",
         "x": [
          "1988-03-31T00:00:00",
          "1988-06-30T00:00:00",
          "1988-09-30T00:00:00",
          "1988-12-31T00:00:00",
          "1989-03-31T00:00:00",
          "1989-06-30T00:00:00",
          "1989-09-30T00:00:00",
          "1989-12-31T00:00:00",
          "1990-03-31T00:00:00",
          "1990-06-30T00:00:00",
          "1990-09-30T00:00:00",
          "1990-12-31T00:00:00",
          "1991-03-31T00:00:00",
          "1991-06-30T00:00:00",
          "1991-09-30T00:00:00",
          "1991-12-31T00:00:00",
          "1992-03-31T00:00:00",
          "1992-06-30T00:00:00",
          "1992-09-30T00:00:00",
          "1992-12-31T00:00:00",
          "1993-03-31T00:00:00",
          "1993-06-30T00:00:00",
          "1993-09-30T00:00:00",
          "1993-12-31T00:00:00",
          "1994-03-31T00:00:00",
          "1994-06-30T00:00:00",
          "1994-09-30T00:00:00",
          "1994-12-31T00:00:00",
          "1995-03-31T00:00:00",
          "1995-06-30T00:00:00",
          "1995-09-30T00:00:00",
          "1995-12-31T00:00:00",
          "1996-03-31T00:00:00",
          "1996-06-30T00:00:00",
          "1996-09-30T00:00:00",
          "1996-12-31T00:00:00",
          "1997-03-31T00:00:00",
          "1997-06-30T00:00:00",
          "1997-09-30T00:00:00",
          "1997-12-31T00:00:00",
          "1998-03-31T00:00:00",
          "1998-06-30T00:00:00",
          "1998-09-30T00:00:00",
          "1998-12-31T00:00:00",
          "1999-03-31T00:00:00",
          "1999-06-30T00:00:00",
          "1999-09-30T00:00:00",
          "1999-12-31T00:00:00",
          "2000-03-31T00:00:00",
          "2000-06-30T00:00:00",
          "2000-09-30T00:00:00",
          "2000-12-31T00:00:00",
          "2001-03-31T00:00:00",
          "2001-06-30T00:00:00",
          "2001-09-30T00:00:00",
          "2001-12-31T00:00:00",
          "2002-03-31T00:00:00",
          "2002-06-30T00:00:00",
          "2002-09-30T00:00:00",
          "2002-12-31T00:00:00",
          "2003-03-31T00:00:00",
          "2003-06-30T00:00:00",
          "2003-09-30T00:00:00",
          "2003-12-31T00:00:00",
          "2004-03-31T00:00:00",
          "2004-06-30T00:00:00",
          "2004-09-30T00:00:00",
          "2004-12-31T00:00:00",
          "2005-03-31T00:00:00",
          "2005-06-30T00:00:00",
          "2005-09-30T00:00:00",
          "2005-12-31T00:00:00",
          "2006-03-31T00:00:00",
          "2006-06-30T00:00:00",
          "2006-09-30T00:00:00",
          "2006-12-31T00:00:00",
          "2007-03-31T00:00:00",
          "2007-06-30T00:00:00",
          "2007-09-30T00:00:00",
          "2007-12-31T00:00:00",
          "2008-03-31T00:00:00",
          "2008-06-30T00:00:00",
          "2008-09-30T00:00:00",
          "2008-12-31T00:00:00",
          "2009-03-31T00:00:00",
          "2009-06-30T00:00:00",
          "2009-09-30T00:00:00",
          "2009-12-31T00:00:00",
          "2010-03-31T00:00:00",
          "2010-06-30T00:00:00",
          "2010-09-30T00:00:00",
          "2010-12-31T00:00:00",
          "2011-03-31T00:00:00",
          "2011-06-30T00:00:00",
          "2011-09-30T00:00:00",
          "2011-12-31T00:00:00",
          "2012-03-31T00:00:00",
          "2012-06-30T00:00:00",
          "2012-09-30T00:00:00",
          "2012-12-31T00:00:00",
          "2013-03-31T00:00:00",
          "2013-06-30T00:00:00",
          "2013-09-30T00:00:00",
          "2013-12-31T00:00:00",
          "2014-03-31T00:00:00",
          "2014-06-30T00:00:00",
          "2014-09-30T00:00:00",
          "2014-12-31T00:00:00",
          "2015-03-31T00:00:00",
          "2015-06-30T00:00:00",
          "2015-09-30T00:00:00",
          "2015-12-31T00:00:00",
          "2016-03-31T00:00:00",
          "2016-06-30T00:00:00",
          "2016-09-30T00:00:00",
          "2016-12-31T00:00:00",
          "2017-03-31T00:00:00",
          "2017-06-30T00:00:00",
          "2017-09-30T00:00:00",
          "2017-12-29T00:00:00",
          "2018-03-29T00:00:00",
          "2018-06-29T00:00:00",
          "2018-09-28T00:00:00",
          "2018-12-31T00:00:00",
          "2019-03-29T00:00:00",
          "2019-06-28T00:00:00",
          "2019-09-30T00:00:00",
          "2019-12-31T00:00:00",
          "2020-03-31T00:00:00",
          "2020-06-30T00:00:00",
          "2020-09-30T00:00:00",
          "2020-12-31T00:00:00"
         ],
         "xaxis": "x",
         "y": [
          null,
          null,
          null,
          null,
          null,
          null,
          null,
          null,
          null,
          2.677,
          2.753,
          2.8150000000000004,
          2.848,
          2.918,
          2.9810000000000003,
          2.999,
          3.0070000000000006,
          3.045000000000001,
          3.0880000000000014,
          3.070000000000001,
          3.0710000000000006,
          3.0870000000000006,
          3.128000000000001,
          3.1130000000000004,
          3.1140000000000003,
          3.1510000000000007,
          3.1890000000000005,
          3.1990000000000003,
          3.1930000000000005,
          3.25,
          3.2990000000000004,
          3.3259999999999996,
          3.351,
          3.4189999999999996,
          3.4939999999999998,
          3.531999999999999,
          3.563999999999999,
          3.6169999999999987,
          3.7089999999999987,
          3.743999999999999,
          3.7699999999999987,
          3.8329999999999993,
          3.913999999999999,
          3.9369999999999985,
          3.948999999999998,
          3.987999999999998,
          4.071999999999998,
          4.089999999999998,
          4.091999999999998,
          4.108999999999997,
          4.141999999999998,
          4.121999999999998,
          4.073999999999998,
          4.057999999999998,
          4.070999999999999,
          4.050999999999998,
          3.9829999999999983,
          3.9929999999999986,
          3.9749999999999988,
          3.9889999999999985,
          3.9719999999999986,
          3.982999999999999,
          4.036999999999999,
          4.158999999999999,
          4.200999999999999,
          4.268999999999999,
          4.379999999999999,
          4.497999999999999,
          4.6419999999999995,
          4.752,
          4.903,
          5.101999999999999,
          5.260999999999999,
          5.356999999999999,
          5.51,
          5.730999999999999,
          5.894999999999998,
          6.030999999999999,
          6.186999999999999,
          6.412999999999999,
          6.578999999999999,
          6.680999999999999,
          6.794,
          6.907000000000001,
          6.894,
          6.7509999999999994,
          6.633999999999999,
          6.530999999999999,
          6.386999999999999,
          6.182999999999999,
          6.039999999999999,
          5.932999999999999,
          5.845,
          5.779,
          5.832999999999999,
          6.016999999999999,
          6.190999999999999,
          6.369999999999999,
          6.600999999999999,
          6.936,
          7.165000000000001,
          7.423,
          7.698,
          8.001000000000001,
          8.27,
          8.518,
          8.811,
          9.113,
          9.391,
          9.566999999999998,
          9.850999999999997,
          10.124999999999996,
          10.337999999999997,
          10.513999999999998,
          10.730999999999998,
          10.956999999999997,
          11.126999999999997,
          11.291999999999998,
          11.467999999999998,
          11.676999999999998,
          11.876999999999999,
          12.051999999999998,
          12.313999999999998,
          12.604999999999999,
          12.866999999999996,
          13.088999999999995,
          13.396999999999997,
          13.705999999999998,
          14.006999999999996,
          14.163999999999996,
          14.281999999999996,
          14.435999999999998
         ],
         "yaxis": "y"
        }
       ],
       "layout": {
        "legend": {
         "title": {
          "text": "variable"
         },
         "tracegroupgap": 0
        },
        "template": {
         "data": {
          "bar": [
           {
            "error_x": {
             "color": "#2a3f5f"
            },
            "error_y": {
             "color": "#2a3f5f"
            },
            "marker": {
             "line": {
              "color": "#E5ECF6",
              "width": 0.5
             }
            },
            "type": "bar"
           }
          ],
          "barpolar": [
           {
            "marker": {
             "line": {
              "color": "#E5ECF6",
              "width": 0.5
             }
            },
            "type": "barpolar"
           }
          ],
          "carpet": [
           {
            "aaxis": {
             "endlinecolor": "#2a3f5f",
             "gridcolor": "white",
             "linecolor": "white",
             "minorgridcolor": "white",
             "startlinecolor": "#2a3f5f"
            },
            "baxis": {
             "endlinecolor": "#2a3f5f",
             "gridcolor": "white",
             "linecolor": "white",
             "minorgridcolor": "white",
             "startlinecolor": "#2a3f5f"
            },
            "type": "carpet"
           }
          ],
          "choropleth": [
           {
            "colorbar": {
             "outlinewidth": 0,
             "ticks": ""
            },
            "type": "choropleth"
           }
          ],
          "contour": [
           {
            "colorbar": {
             "outlinewidth": 0,
             "ticks": ""
            },
            "colorscale": [
             [
              0,
              "#0d0887"
             ],
             [
              0.1111111111111111,
              "#46039f"
             ],
             [
              0.2222222222222222,
              "#7201a8"
             ],
             [
              0.3333333333333333,
              "#9c179e"
             ],
             [
              0.4444444444444444,
              "#bd3786"
             ],
             [
              0.5555555555555556,
              "#d8576b"
             ],
             [
              0.6666666666666666,
              "#ed7953"
             ],
             [
              0.7777777777777778,
              "#fb9f3a"
             ],
             [
              0.8888888888888888,
              "#fdca26"
             ],
             [
              1,
              "#f0f921"
             ]
            ],
            "type": "contour"
           }
          ],
          "contourcarpet": [
           {
            "colorbar": {
             "outlinewidth": 0,
             "ticks": ""
            },
            "type": "contourcarpet"
           }
          ],
          "heatmap": [
           {
            "colorbar": {
             "outlinewidth": 0,
             "ticks": ""
            },
            "colorscale": [
             [
              0,
              "#0d0887"
             ],
             [
              0.1111111111111111,
              "#46039f"
             ],
             [
              0.2222222222222222,
              "#7201a8"
             ],
             [
              0.3333333333333333,
              "#9c179e"
             ],
             [
              0.4444444444444444,
              "#bd3786"
             ],
             [
              0.5555555555555556,
              "#d8576b"
             ],
             [
              0.6666666666666666,
              "#ed7953"
             ],
             [
              0.7777777777777778,
              "#fb9f3a"
             ],
             [
              0.8888888888888888,
              "#fdca26"
             ],
             [
              1,
              "#f0f921"
             ]
            ],
            "type": "heatmap"
           }
          ],
          "heatmapgl": [
           {
            "colorbar": {
             "outlinewidth": 0,
             "ticks": ""
            },
            "colorscale": [
             [
              0,
              "#0d0887"
             ],
             [
              0.1111111111111111,
              "#46039f"
             ],
             [
              0.2222222222222222,
              "#7201a8"
             ],
             [
              0.3333333333333333,
              "#9c179e"
             ],
             [
              0.4444444444444444,
              "#bd3786"
             ],
             [
              0.5555555555555556,
              "#d8576b"
             ],
             [
              0.6666666666666666,
              "#ed7953"
             ],
             [
              0.7777777777777778,
              "#fb9f3a"
             ],
             [
              0.8888888888888888,
              "#fdca26"
             ],
             [
              1,
              "#f0f921"
             ]
            ],
            "type": "heatmapgl"
           }
          ],
          "histogram": [
           {
            "marker": {
             "colorbar": {
              "outlinewidth": 0,
              "ticks": ""
             }
            },
            "type": "histogram"
           }
          ],
          "histogram2d": [
           {
            "colorbar": {
             "outlinewidth": 0,
             "ticks": ""
            },
            "colorscale": [
             [
              0,
              "#0d0887"
             ],
             [
              0.1111111111111111,
              "#46039f"
             ],
             [
              0.2222222222222222,
              "#7201a8"
             ],
             [
              0.3333333333333333,
              "#9c179e"
             ],
             [
              0.4444444444444444,
              "#bd3786"
             ],
             [
              0.5555555555555556,
              "#d8576b"
             ],
             [
              0.6666666666666666,
              "#ed7953"
             ],
             [
              0.7777777777777778,
              "#fb9f3a"
             ],
             [
              0.8888888888888888,
              "#fdca26"
             ],
             [
              1,
              "#f0f921"
             ]
            ],
            "type": "histogram2d"
           }
          ],
          "histogram2dcontour": [
           {
            "colorbar": {
             "outlinewidth": 0,
             "ticks": ""
            },
            "colorscale": [
             [
              0,
              "#0d0887"
             ],
             [
              0.1111111111111111,
              "#46039f"
             ],
             [
              0.2222222222222222,
              "#7201a8"
             ],
             [
              0.3333333333333333,
              "#9c179e"
             ],
             [
              0.4444444444444444,
              "#bd3786"
             ],
             [
              0.5555555555555556,
              "#d8576b"
             ],
             [
              0.6666666666666666,
              "#ed7953"
             ],
             [
              0.7777777777777778,
              "#fb9f3a"
             ],
             [
              0.8888888888888888,
              "#fdca26"
             ],
             [
              1,
              "#f0f921"
             ]
            ],
            "type": "histogram2dcontour"
           }
          ],
          "mesh3d": [
           {
            "colorbar": {
             "outlinewidth": 0,
             "ticks": ""
            },
            "type": "mesh3d"
           }
          ],
          "parcoords": [
           {
            "line": {
             "colorbar": {
              "outlinewidth": 0,
              "ticks": ""
             }
            },
            "type": "parcoords"
           }
          ],
          "pie": [
           {
            "automargin": true,
            "type": "pie"
           }
          ],
          "scatter": [
           {
            "marker": {
             "colorbar": {
              "outlinewidth": 0,
              "ticks": ""
             }
            },
            "type": "scatter"
           }
          ],
          "scatter3d": [
           {
            "line": {
             "colorbar": {
              "outlinewidth": 0,
              "ticks": ""
             }
            },
            "marker": {
             "colorbar": {
              "outlinewidth": 0,
              "ticks": ""
             }
            },
            "type": "scatter3d"
           }
          ],
          "scattercarpet": [
           {
            "marker": {
             "colorbar": {
              "outlinewidth": 0,
              "ticks": ""
             }
            },
            "type": "scattercarpet"
           }
          ],
          "scattergeo": [
           {
            "marker": {
             "colorbar": {
              "outlinewidth": 0,
              "ticks": ""
             }
            },
            "type": "scattergeo"
           }
          ],
          "scattergl": [
           {
            "marker": {
             "colorbar": {
              "outlinewidth": 0,
              "ticks": ""
             }
            },
            "type": "scattergl"
           }
          ],
          "scattermapbox": [
           {
            "marker": {
             "colorbar": {
              "outlinewidth": 0,
              "ticks": ""
             }
            },
            "type": "scattermapbox"
           }
          ],
          "scatterpolar": [
           {
            "marker": {
             "colorbar": {
              "outlinewidth": 0,
              "ticks": ""
             }
            },
            "type": "scatterpolar"
           }
          ],
          "scatterpolargl": [
           {
            "marker": {
             "colorbar": {
              "outlinewidth": 0,
              "ticks": ""
             }
            },
            "type": "scatterpolargl"
           }
          ],
          "scatterternary": [
           {
            "marker": {
             "colorbar": {
              "outlinewidth": 0,
              "ticks": ""
             }
            },
            "type": "scatterternary"
           }
          ],
          "surface": [
           {
            "colorbar": {
             "outlinewidth": 0,
             "ticks": ""
            },
            "colorscale": [
             [
              0,
              "#0d0887"
             ],
             [
              0.1111111111111111,
              "#46039f"
             ],
             [
              0.2222222222222222,
              "#7201a8"
             ],
             [
              0.3333333333333333,
              "#9c179e"
             ],
             [
              0.4444444444444444,
              "#bd3786"
             ],
             [
              0.5555555555555556,
              "#d8576b"
             ],
             [
              0.6666666666666666,
              "#ed7953"
             ],
             [
              0.7777777777777778,
              "#fb9f3a"
             ],
             [
              0.8888888888888888,
              "#fdca26"
             ],
             [
              1,
              "#f0f921"
             ]
            ],
            "type": "surface"
           }
          ],
          "table": [
           {
            "cells": {
             "fill": {
              "color": "#EBF0F8"
             },
             "line": {
              "color": "white"
             }
            },
            "header": {
             "fill": {
              "color": "#C8D4E3"
             },
             "line": {
              "color": "white"
             }
            },
            "type": "table"
           }
          ]
         },
         "layout": {
          "annotationdefaults": {
           "arrowcolor": "#2a3f5f",
           "arrowhead": 0,
           "arrowwidth": 1
          },
          "coloraxis": {
           "colorbar": {
            "outlinewidth": 0,
            "ticks": ""
           }
          },
          "colorscale": {
           "diverging": [
            [
             0,
             "#8e0152"
            ],
            [
             0.1,
             "#c51b7d"
            ],
            [
             0.2,
             "#de77ae"
            ],
            [
             0.3,
             "#f1b6da"
            ],
            [
             0.4,
             "#fde0ef"
            ],
            [
             0.5,
             "#f7f7f7"
            ],
            [
             0.6,
             "#e6f5d0"
            ],
            [
             0.7,
             "#b8e186"
            ],
            [
             0.8,
             "#7fbc41"
            ],
            [
             0.9,
             "#4d9221"
            ],
            [
             1,
             "#276419"
            ]
           ],
           "sequential": [
            [
             0,
             "#0d0887"
            ],
            [
             0.1111111111111111,
             "#46039f"
            ],
            [
             0.2222222222222222,
             "#7201a8"
            ],
            [
             0.3333333333333333,
             "#9c179e"
            ],
            [
             0.4444444444444444,
             "#bd3786"
            ],
            [
             0.5555555555555556,
             "#d8576b"
            ],
            [
             0.6666666666666666,
             "#ed7953"
            ],
            [
             0.7777777777777778,
             "#fb9f3a"
            ],
            [
             0.8888888888888888,
             "#fdca26"
            ],
            [
             1,
             "#f0f921"
            ]
           ],
           "sequentialminus": [
            [
             0,
             "#0d0887"
            ],
            [
             0.1111111111111111,
             "#46039f"
            ],
            [
             0.2222222222222222,
             "#7201a8"
            ],
            [
             0.3333333333333333,
             "#9c179e"
            ],
            [
             0.4444444444444444,
             "#bd3786"
            ],
            [
             0.5555555555555556,
             "#d8576b"
            ],
            [
             0.6666666666666666,
             "#ed7953"
            ],
            [
             0.7777777777777778,
             "#fb9f3a"
            ],
            [
             0.8888888888888888,
             "#fdca26"
            ],
            [
             1,
             "#f0f921"
            ]
           ]
          },
          "colorway": [
           "#636efa",
           "#EF553B",
           "#00cc96",
           "#ab63fa",
           "#FFA15A",
           "#19d3f3",
           "#FF6692",
           "#B6E880",
           "#FF97FF",
           "#FECB52"
          ],
          "font": {
           "color": "#2a3f5f"
          },
          "geo": {
           "bgcolor": "white",
           "lakecolor": "white",
           "landcolor": "#E5ECF6",
           "showlakes": true,
           "showland": true,
           "subunitcolor": "white"
          },
          "hoverlabel": {
           "align": "left"
          },
          "hovermode": "closest",
          "mapbox": {
           "style": "light"
          },
          "paper_bgcolor": "white",
          "plot_bgcolor": "#E5ECF6",
          "polar": {
           "angularaxis": {
            "gridcolor": "white",
            "linecolor": "white",
            "ticks": ""
           },
           "bgcolor": "#E5ECF6",
           "radialaxis": {
            "gridcolor": "white",
            "linecolor": "white",
            "ticks": ""
           }
          },
          "scene": {
           "xaxis": {
            "backgroundcolor": "#E5ECF6",
            "gridcolor": "white",
            "gridwidth": 2,
            "linecolor": "white",
            "showbackground": true,
            "ticks": "",
            "zerolinecolor": "white"
           },
           "yaxis": {
            "backgroundcolor": "#E5ECF6",
            "gridcolor": "white",
            "gridwidth": 2,
            "linecolor": "white",
            "showbackground": true,
            "ticks": "",
            "zerolinecolor": "white"
           },
           "zaxis": {
            "backgroundcolor": "#E5ECF6",
            "gridcolor": "white",
            "gridwidth": 2,
            "linecolor": "white",
            "showbackground": true,
            "ticks": "",
            "zerolinecolor": "white"
           }
          },
          "shapedefaults": {
           "line": {
            "color": "#2a3f5f"
           }
          },
          "ternary": {
           "aaxis": {
            "gridcolor": "white",
            "linecolor": "white",
            "ticks": ""
           },
           "baxis": {
            "gridcolor": "white",
            "linecolor": "white",
            "ticks": ""
           },
           "bgcolor": "#E5ECF6",
           "caxis": {
            "gridcolor": "white",
            "linecolor": "white",
            "ticks": ""
           }
          },
          "title": {
           "x": 0.05
          },
          "xaxis": {
           "automargin": true,
           "gridcolor": "white",
           "linecolor": "white",
           "ticks": "",
           "title": {
            "standoff": 15
           },
           "zerolinecolor": "white",
           "zerolinewidth": 2
          },
          "yaxis": {
           "automargin": true,
           "gridcolor": "white",
           "linecolor": "white",
           "ticks": "",
           "title": {
            "standoff": 15
           },
           "zerolinecolor": "white",
           "zerolinewidth": 2
          }
         }
        },
        "title": {
         "text": "Variation in S&P 500 Dividends since 1988"
        },
        "xaxis": {
         "anchor": "y",
         "domain": [
          0,
          1
         ],
         "rangeselector": {
          "buttons": [
           {
            "count": 1,
            "label": "1y",
            "step": "year",
            "stepmode": "backward"
           },
           {
            "count": 5,
            "label": "5y",
            "step": "year",
            "stepmode": "backward"
           },
           {
            "step": "all"
           }
          ]
         },
         "rangeslider": {
          "visible": true
         },
         "title": {
          "text": "DATE"
         },
         "type": "date"
        },
        "yaxis": {
         "anchor": "x",
         "domain": [
          0,
          1
         ],
         "title": {
          "text": "Divident per share ($)"
         }
        }
       }
      },
      "text/html": [
       "<div>                            <div id=\"435fdfea-ceac-4002-aefa-56801bcd8f12\" class=\"plotly-graph-div\" style=\"height:525px; width:100%;\"></div>            <script type=\"text/javascript\">                require([\"plotly\"], function(Plotly) {                    window.PLOTLYENV=window.PLOTLYENV || {};                                    if (document.getElementById(\"435fdfea-ceac-4002-aefa-56801bcd8f12\")) {                    Plotly.newPlot(                        \"435fdfea-ceac-4002-aefa-56801bcd8f12\",                        [{\"hovertemplate\": \"variable=CASH_DIVIDENDS_PER_SHARE<br>DATE=%{x}<br>Divident per share ($)=%{y}<extra></extra>\", \"legendgroup\": \"CASH_DIVIDENDS_PER_SHARE\", \"line\": {\"color\": \"#636efa\", \"dash\": \"solid\"}, \"mode\": \"lines\", \"name\": \"CASH_DIVIDENDS_PER_SHARE\", \"orientation\": \"v\", \"showlegend\": true, \"type\": \"scatter\", \"x\": [\"1988-03-31T00:00:00\", \"1988-06-30T00:00:00\", \"1988-09-30T00:00:00\", \"1988-12-31T00:00:00\", \"1989-03-31T00:00:00\", \"1989-06-30T00:00:00\", \"1989-09-30T00:00:00\", \"1989-12-31T00:00:00\", \"1990-03-31T00:00:00\", \"1990-06-30T00:00:00\", \"1990-09-30T00:00:00\", \"1990-12-31T00:00:00\", \"1991-03-31T00:00:00\", \"1991-06-30T00:00:00\", \"1991-09-30T00:00:00\", \"1991-12-31T00:00:00\", \"1992-03-31T00:00:00\", \"1992-06-30T00:00:00\", \"1992-09-30T00:00:00\", \"1992-12-31T00:00:00\", \"1993-03-31T00:00:00\", \"1993-06-30T00:00:00\", \"1993-09-30T00:00:00\", \"1993-12-31T00:00:00\", \"1994-03-31T00:00:00\", \"1994-06-30T00:00:00\", \"1994-09-30T00:00:00\", \"1994-12-31T00:00:00\", \"1995-03-31T00:00:00\", \"1995-06-30T00:00:00\", \"1995-09-30T00:00:00\", \"1995-12-31T00:00:00\", \"1996-03-31T00:00:00\", \"1996-06-30T00:00:00\", \"1996-09-30T00:00:00\", \"1996-12-31T00:00:00\", \"1997-03-31T00:00:00\", \"1997-06-30T00:00:00\", \"1997-09-30T00:00:00\", \"1997-12-31T00:00:00\", \"1998-03-31T00:00:00\", \"1998-06-30T00:00:00\", \"1998-09-30T00:00:00\", \"1998-12-31T00:00:00\", \"1999-03-31T00:00:00\", \"1999-06-30T00:00:00\", \"1999-09-30T00:00:00\", \"1999-12-31T00:00:00\", \"2000-03-31T00:00:00\", \"2000-06-30T00:00:00\", \"2000-09-30T00:00:00\", \"2000-12-31T00:00:00\", \"2001-03-31T00:00:00\", \"2001-06-30T00:00:00\", \"2001-09-30T00:00:00\", \"2001-12-31T00:00:00\", \"2002-03-31T00:00:00\", \"2002-06-30T00:00:00\", \"2002-09-30T00:00:00\", \"2002-12-31T00:00:00\", \"2003-03-31T00:00:00\", \"2003-06-30T00:00:00\", \"2003-09-30T00:00:00\", \"2003-12-31T00:00:00\", \"2004-03-31T00:00:00\", \"2004-06-30T00:00:00\", \"2004-09-30T00:00:00\", \"2004-12-31T00:00:00\", \"2005-03-31T00:00:00\", \"2005-06-30T00:00:00\", \"2005-09-30T00:00:00\", \"2005-12-31T00:00:00\", \"2006-03-31T00:00:00\", \"2006-06-30T00:00:00\", \"2006-09-30T00:00:00\", \"2006-12-31T00:00:00\", \"2007-03-31T00:00:00\", \"2007-06-30T00:00:00\", \"2007-09-30T00:00:00\", \"2007-12-31T00:00:00\", \"2008-03-31T00:00:00\", \"2008-06-30T00:00:00\", \"2008-09-30T00:00:00\", \"2008-12-31T00:00:00\", \"2009-03-31T00:00:00\", \"2009-06-30T00:00:00\", \"2009-09-30T00:00:00\", \"2009-12-31T00:00:00\", \"2010-03-31T00:00:00\", \"2010-06-30T00:00:00\", \"2010-09-30T00:00:00\", \"2010-12-31T00:00:00\", \"2011-03-31T00:00:00\", \"2011-06-30T00:00:00\", \"2011-09-30T00:00:00\", \"2011-12-31T00:00:00\", \"2012-03-31T00:00:00\", \"2012-06-30T00:00:00\", \"2012-09-30T00:00:00\", \"2012-12-31T00:00:00\", \"2013-03-31T00:00:00\", \"2013-06-30T00:00:00\", \"2013-09-30T00:00:00\", \"2013-12-31T00:00:00\", \"2014-03-31T00:00:00\", \"2014-06-30T00:00:00\", \"2014-09-30T00:00:00\", \"2014-12-31T00:00:00\", \"2015-03-31T00:00:00\", \"2015-06-30T00:00:00\", \"2015-09-30T00:00:00\", \"2015-12-31T00:00:00\", \"2016-03-31T00:00:00\", \"2016-06-30T00:00:00\", \"2016-09-30T00:00:00\", \"2016-12-31T00:00:00\", \"2017-03-31T00:00:00\", \"2017-06-30T00:00:00\", \"2017-09-30T00:00:00\", \"2017-12-29T00:00:00\", \"2018-03-29T00:00:00\", \"2018-06-29T00:00:00\", \"2018-09-28T00:00:00\", \"2018-12-31T00:00:00\", \"2019-03-29T00:00:00\", \"2019-06-28T00:00:00\", \"2019-09-30T00:00:00\", \"2019-12-31T00:00:00\", \"2020-03-31T00:00:00\", \"2020-06-30T00:00:00\", \"2020-09-30T00:00:00\", \"2020-12-31T00:00:00\"], \"xaxis\": \"x\", \"y\": [2.24, 2.5, 2.46, 2.54, 2.5, 2.86, 2.83, 2.86, 2.77, 3.21, 3.0, 3.12, 2.79, 3.24, 3.13, 3.04, 2.91, 3.24, 3.2, 3.03, 3.01, 3.28, 3.2, 3.09, 3.14, 3.41, 3.29, 3.34, 3.14, 3.6, 3.5, 3.55, 3.45, 3.77, 3.89, 3.79, 3.61, 3.87, 4.06, 3.95, 3.76, 4.18, 4.26, 4.0, 4.01, 4.18, 4.45, 4.05, 4.08, 4.12, 4.09, 3.98, 3.78, 3.84, 4.14, 3.98, 3.77, 4.15, 3.9, 4.26, 3.92, 4.09, 4.32, 5.06, 4.56, 4.66, 4.88, 5.33, 5.34, 5.36, 5.43, 6.08, 5.91, 6.02, 6.09, 6.87, 6.52, 6.69, 6.9, 7.62, 7.09, 7.1, 7.04, 7.15, 5.96, 5.44, 5.35, 5.66, 5.46, 5.58, 5.66, 6.03, 6.16, 6.49, 6.5, 7.28, 7.09, 7.45, 7.77, 8.93, 7.95, 8.61, 8.91, 9.52, 9.19, 9.76, 10.02, 10.47, 10.55, 10.69, 10.79, 11.35, 11.04, 11.28, 11.36, 12.02, 11.72, 12.12, 12.31, 12.78, 12.79, 13.1, 13.66, 14.19, 13.98, 14.24, 14.8, 15.21, 15.32, 14.35, 13.97, 14.64], \"yaxis\": \"y\"}, {\"hovertemplate\": \"variable=ROLLING_AVERAGE_DIVIDENDS PER SHARE<br>DATE=%{x}<br>Divident per share ($)=%{y}<extra></extra>\", \"legendgroup\": \"ROLLING_AVERAGE_DIVIDENDS PER SHARE\", \"line\": {\"color\": \"#EF553B\", \"dash\": \"solid\"}, \"mode\": \"lines\", \"name\": \"ROLLING_AVERAGE_DIVIDENDS PER SHARE\", \"orientation\": \"v\", \"showlegend\": true, \"type\": \"scatter\", \"x\": [\"1988-03-31T00:00:00\", \"1988-06-30T00:00:00\", \"1988-09-30T00:00:00\", \"1988-12-31T00:00:00\", \"1989-03-31T00:00:00\", \"1989-06-30T00:00:00\", \"1989-09-30T00:00:00\", \"1989-12-31T00:00:00\", \"1990-03-31T00:00:00\", \"1990-06-30T00:00:00\", \"1990-09-30T00:00:00\", \"1990-12-31T00:00:00\", \"1991-03-31T00:00:00\", \"1991-06-30T00:00:00\", \"1991-09-30T00:00:00\", \"1991-12-31T00:00:00\", \"1992-03-31T00:00:00\", \"1992-06-30T00:00:00\", \"1992-09-30T00:00:00\", \"1992-12-31T00:00:00\", \"1993-03-31T00:00:00\", \"1993-06-30T00:00:00\", \"1993-09-30T00:00:00\", \"1993-12-31T00:00:00\", \"1994-03-31T00:00:00\", \"1994-06-30T00:00:00\", \"1994-09-30T00:00:00\", \"1994-12-31T00:00:00\", \"1995-03-31T00:00:00\", \"1995-06-30T00:00:00\", \"1995-09-30T00:00:00\", \"1995-12-31T00:00:00\", \"1996-03-31T00:00:00\", \"1996-06-30T00:00:00\", \"1996-09-30T00:00:00\", \"1996-12-31T00:00:00\", \"1997-03-31T00:00:00\", \"1997-06-30T00:00:00\", \"1997-09-30T00:00:00\", \"1997-12-31T00:00:00\", \"1998-03-31T00:00:00\", \"1998-06-30T00:00:00\", \"1998-09-30T00:00:00\", \"1998-12-31T00:00:00\", \"1999-03-31T00:00:00\", \"1999-06-30T00:00:00\", \"1999-09-30T00:00:00\", \"1999-12-31T00:00:00\", \"2000-03-31T00:00:00\", \"2000-06-30T00:00:00\", \"2000-09-30T00:00:00\", \"2000-12-31T00:00:00\", \"2001-03-31T00:00:00\", \"2001-06-30T00:00:00\", \"2001-09-30T00:00:00\", \"2001-12-31T00:00:00\", \"2002-03-31T00:00:00\", \"2002-06-30T00:00:00\", \"2002-09-30T00:00:00\", \"2002-12-31T00:00:00\", \"2003-03-31T00:00:00\", \"2003-06-30T00:00:00\", \"2003-09-30T00:00:00\", \"2003-12-31T00:00:00\", \"2004-03-31T00:00:00\", \"2004-06-30T00:00:00\", \"2004-09-30T00:00:00\", \"2004-12-31T00:00:00\", \"2005-03-31T00:00:00\", \"2005-06-30T00:00:00\", \"2005-09-30T00:00:00\", \"2005-12-31T00:00:00\", \"2006-03-31T00:00:00\", \"2006-06-30T00:00:00\", \"2006-09-30T00:00:00\", \"2006-12-31T00:00:00\", \"2007-03-31T00:00:00\", \"2007-06-30T00:00:00\", \"2007-09-30T00:00:00\", \"2007-12-31T00:00:00\", \"2008-03-31T00:00:00\", \"2008-06-30T00:00:00\", \"2008-09-30T00:00:00\", \"2008-12-31T00:00:00\", \"2009-03-31T00:00:00\", \"2009-06-30T00:00:00\", \"2009-09-30T00:00:00\", \"2009-12-31T00:00:00\", \"2010-03-31T00:00:00\", \"2010-06-30T00:00:00\", \"2010-09-30T00:00:00\", \"2010-12-31T00:00:00\", \"2011-03-31T00:00:00\", \"2011-06-30T00:00:00\", \"2011-09-30T00:00:00\", \"2011-12-31T00:00:00\", \"2012-03-31T00:00:00\", \"2012-06-30T00:00:00\", \"2012-09-30T00:00:00\", \"2012-12-31T00:00:00\", \"2013-03-31T00:00:00\", \"2013-06-30T00:00:00\", \"2013-09-30T00:00:00\", \"2013-12-31T00:00:00\", \"2014-03-31T00:00:00\", \"2014-06-30T00:00:00\", \"2014-09-30T00:00:00\", \"2014-12-31T00:00:00\", \"2015-03-31T00:00:00\", \"2015-06-30T00:00:00\", \"2015-09-30T00:00:00\", \"2015-12-31T00:00:00\", \"2016-03-31T00:00:00\", \"2016-06-30T00:00:00\", \"2016-09-30T00:00:00\", \"2016-12-31T00:00:00\", \"2017-03-31T00:00:00\", \"2017-06-30T00:00:00\", \"2017-09-30T00:00:00\", \"2017-12-29T00:00:00\", \"2018-03-29T00:00:00\", \"2018-06-29T00:00:00\", \"2018-09-28T00:00:00\", \"2018-12-31T00:00:00\", \"2019-03-29T00:00:00\", \"2019-06-28T00:00:00\", \"2019-09-30T00:00:00\", \"2019-12-31T00:00:00\", \"2020-03-31T00:00:00\", \"2020-06-30T00:00:00\", \"2020-09-30T00:00:00\", \"2020-12-31T00:00:00\"], \"xaxis\": \"x\", \"y\": [null, null, null, null, null, null, null, null, null, 2.677, 2.753, 2.8150000000000004, 2.848, 2.918, 2.9810000000000003, 2.999, 3.0070000000000006, 3.045000000000001, 3.0880000000000014, 3.070000000000001, 3.0710000000000006, 3.0870000000000006, 3.128000000000001, 3.1130000000000004, 3.1140000000000003, 3.1510000000000007, 3.1890000000000005, 3.1990000000000003, 3.1930000000000005, 3.25, 3.2990000000000004, 3.3259999999999996, 3.351, 3.4189999999999996, 3.4939999999999998, 3.531999999999999, 3.563999999999999, 3.6169999999999987, 3.7089999999999987, 3.743999999999999, 3.7699999999999987, 3.8329999999999993, 3.913999999999999, 3.9369999999999985, 3.948999999999998, 3.987999999999998, 4.071999999999998, 4.089999999999998, 4.091999999999998, 4.108999999999997, 4.141999999999998, 4.121999999999998, 4.073999999999998, 4.057999999999998, 4.070999999999999, 4.050999999999998, 3.9829999999999983, 3.9929999999999986, 3.9749999999999988, 3.9889999999999985, 3.9719999999999986, 3.982999999999999, 4.036999999999999, 4.158999999999999, 4.200999999999999, 4.268999999999999, 4.379999999999999, 4.497999999999999, 4.6419999999999995, 4.752, 4.903, 5.101999999999999, 5.260999999999999, 5.356999999999999, 5.51, 5.730999999999999, 5.894999999999998, 6.030999999999999, 6.186999999999999, 6.412999999999999, 6.578999999999999, 6.680999999999999, 6.794, 6.907000000000001, 6.894, 6.7509999999999994, 6.633999999999999, 6.530999999999999, 6.386999999999999, 6.182999999999999, 6.039999999999999, 5.932999999999999, 5.845, 5.779, 5.832999999999999, 6.016999999999999, 6.190999999999999, 6.369999999999999, 6.600999999999999, 6.936, 7.165000000000001, 7.423, 7.698, 8.001000000000001, 8.27, 8.518, 8.811, 9.113, 9.391, 9.566999999999998, 9.850999999999997, 10.124999999999996, 10.337999999999997, 10.513999999999998, 10.730999999999998, 10.956999999999997, 11.126999999999997, 11.291999999999998, 11.467999999999998, 11.676999999999998, 11.876999999999999, 12.051999999999998, 12.313999999999998, 12.604999999999999, 12.866999999999996, 13.088999999999995, 13.396999999999997, 13.705999999999998, 14.006999999999996, 14.163999999999996, 14.281999999999996, 14.435999999999998], \"yaxis\": \"y\"}],                        {\"legend\": {\"title\": {\"text\": \"variable\"}, \"tracegroupgap\": 0}, \"template\": {\"data\": {\"bar\": [{\"error_x\": {\"color\": \"#2a3f5f\"}, \"error_y\": {\"color\": \"#2a3f5f\"}, \"marker\": {\"line\": {\"color\": \"#E5ECF6\", \"width\": 0.5}}, \"type\": \"bar\"}], \"barpolar\": [{\"marker\": {\"line\": {\"color\": \"#E5ECF6\", \"width\": 0.5}}, \"type\": \"barpolar\"}], \"carpet\": [{\"aaxis\": {\"endlinecolor\": \"#2a3f5f\", \"gridcolor\": \"white\", \"linecolor\": \"white\", \"minorgridcolor\": \"white\", \"startlinecolor\": \"#2a3f5f\"}, \"baxis\": {\"endlinecolor\": \"#2a3f5f\", \"gridcolor\": \"white\", \"linecolor\": \"white\", \"minorgridcolor\": \"white\", \"startlinecolor\": \"#2a3f5f\"}, \"type\": \"carpet\"}], \"choropleth\": [{\"colorbar\": {\"outlinewidth\": 0, \"ticks\": \"\"}, \"type\": \"choropleth\"}], \"contour\": [{\"colorbar\": {\"outlinewidth\": 0, \"ticks\": \"\"}, \"colorscale\": [[0.0, \"#0d0887\"], [0.1111111111111111, \"#46039f\"], [0.2222222222222222, \"#7201a8\"], [0.3333333333333333, \"#9c179e\"], [0.4444444444444444, \"#bd3786\"], [0.5555555555555556, \"#d8576b\"], [0.6666666666666666, \"#ed7953\"], [0.7777777777777778, \"#fb9f3a\"], [0.8888888888888888, \"#fdca26\"], [1.0, \"#f0f921\"]], \"type\": \"contour\"}], \"contourcarpet\": [{\"colorbar\": {\"outlinewidth\": 0, \"ticks\": \"\"}, \"type\": \"contourcarpet\"}], \"heatmap\": [{\"colorbar\": {\"outlinewidth\": 0, \"ticks\": \"\"}, \"colorscale\": [[0.0, \"#0d0887\"], [0.1111111111111111, \"#46039f\"], [0.2222222222222222, \"#7201a8\"], [0.3333333333333333, \"#9c179e\"], [0.4444444444444444, \"#bd3786\"], [0.5555555555555556, \"#d8576b\"], [0.6666666666666666, \"#ed7953\"], [0.7777777777777778, \"#fb9f3a\"], [0.8888888888888888, \"#fdca26\"], [1.0, \"#f0f921\"]], \"type\": \"heatmap\"}], \"heatmapgl\": [{\"colorbar\": {\"outlinewidth\": 0, \"ticks\": \"\"}, \"colorscale\": [[0.0, \"#0d0887\"], [0.1111111111111111, \"#46039f\"], [0.2222222222222222, \"#7201a8\"], [0.3333333333333333, \"#9c179e\"], [0.4444444444444444, \"#bd3786\"], [0.5555555555555556, \"#d8576b\"], [0.6666666666666666, \"#ed7953\"], [0.7777777777777778, \"#fb9f3a\"], [0.8888888888888888, \"#fdca26\"], [1.0, \"#f0f921\"]], \"type\": \"heatmapgl\"}], \"histogram\": [{\"marker\": {\"colorbar\": {\"outlinewidth\": 0, \"ticks\": \"\"}}, \"type\": \"histogram\"}], \"histogram2d\": [{\"colorbar\": {\"outlinewidth\": 0, \"ticks\": \"\"}, \"colorscale\": [[0.0, \"#0d0887\"], [0.1111111111111111, \"#46039f\"], [0.2222222222222222, \"#7201a8\"], [0.3333333333333333, \"#9c179e\"], [0.4444444444444444, \"#bd3786\"], [0.5555555555555556, \"#d8576b\"], [0.6666666666666666, \"#ed7953\"], [0.7777777777777778, \"#fb9f3a\"], [0.8888888888888888, \"#fdca26\"], [1.0, \"#f0f921\"]], \"type\": \"histogram2d\"}], \"histogram2dcontour\": [{\"colorbar\": {\"outlinewidth\": 0, \"ticks\": \"\"}, \"colorscale\": [[0.0, \"#0d0887\"], [0.1111111111111111, \"#46039f\"], [0.2222222222222222, \"#7201a8\"], [0.3333333333333333, \"#9c179e\"], [0.4444444444444444, \"#bd3786\"], [0.5555555555555556, \"#d8576b\"], [0.6666666666666666, \"#ed7953\"], [0.7777777777777778, \"#fb9f3a\"], [0.8888888888888888, \"#fdca26\"], [1.0, \"#f0f921\"]], \"type\": \"histogram2dcontour\"}], \"mesh3d\": [{\"colorbar\": {\"outlinewidth\": 0, \"ticks\": \"\"}, \"type\": \"mesh3d\"}], \"parcoords\": [{\"line\": {\"colorbar\": {\"outlinewidth\": 0, \"ticks\": \"\"}}, \"type\": \"parcoords\"}], \"pie\": [{\"automargin\": true, \"type\": \"pie\"}], \"scatter\": [{\"marker\": {\"colorbar\": {\"outlinewidth\": 0, \"ticks\": \"\"}}, \"type\": \"scatter\"}], \"scatter3d\": [{\"line\": {\"colorbar\": {\"outlinewidth\": 0, \"ticks\": \"\"}}, \"marker\": {\"colorbar\": {\"outlinewidth\": 0, \"ticks\": \"\"}}, \"type\": \"scatter3d\"}], \"scattercarpet\": [{\"marker\": {\"colorbar\": {\"outlinewidth\": 0, \"ticks\": \"\"}}, \"type\": \"scattercarpet\"}], \"scattergeo\": [{\"marker\": {\"colorbar\": {\"outlinewidth\": 0, \"ticks\": \"\"}}, \"type\": \"scattergeo\"}], \"scattergl\": [{\"marker\": {\"colorbar\": {\"outlinewidth\": 0, \"ticks\": \"\"}}, \"type\": \"scattergl\"}], \"scattermapbox\": [{\"marker\": {\"colorbar\": {\"outlinewidth\": 0, \"ticks\": \"\"}}, \"type\": \"scattermapbox\"}], \"scatterpolar\": [{\"marker\": {\"colorbar\": {\"outlinewidth\": 0, \"ticks\": \"\"}}, \"type\": \"scatterpolar\"}], \"scatterpolargl\": [{\"marker\": {\"colorbar\": {\"outlinewidth\": 0, \"ticks\": \"\"}}, \"type\": \"scatterpolargl\"}], \"scatterternary\": [{\"marker\": {\"colorbar\": {\"outlinewidth\": 0, \"ticks\": \"\"}}, \"type\": \"scatterternary\"}], \"surface\": [{\"colorbar\": {\"outlinewidth\": 0, \"ticks\": \"\"}, \"colorscale\": [[0.0, \"#0d0887\"], [0.1111111111111111, \"#46039f\"], [0.2222222222222222, \"#7201a8\"], [0.3333333333333333, \"#9c179e\"], [0.4444444444444444, \"#bd3786\"], [0.5555555555555556, \"#d8576b\"], [0.6666666666666666, \"#ed7953\"], [0.7777777777777778, \"#fb9f3a\"], [0.8888888888888888, \"#fdca26\"], [1.0, \"#f0f921\"]], \"type\": \"surface\"}], \"table\": [{\"cells\": {\"fill\": {\"color\": \"#EBF0F8\"}, \"line\": {\"color\": \"white\"}}, \"header\": {\"fill\": {\"color\": \"#C8D4E3\"}, \"line\": {\"color\": \"white\"}}, \"type\": \"table\"}]}, \"layout\": {\"annotationdefaults\": {\"arrowcolor\": \"#2a3f5f\", \"arrowhead\": 0, \"arrowwidth\": 1}, \"coloraxis\": {\"colorbar\": {\"outlinewidth\": 0, \"ticks\": \"\"}}, \"colorscale\": {\"diverging\": [[0, \"#8e0152\"], [0.1, \"#c51b7d\"], [0.2, \"#de77ae\"], [0.3, \"#f1b6da\"], [0.4, \"#fde0ef\"], [0.5, \"#f7f7f7\"], [0.6, \"#e6f5d0\"], [0.7, \"#b8e186\"], [0.8, \"#7fbc41\"], [0.9, \"#4d9221\"], [1, \"#276419\"]], \"sequential\": [[0.0, \"#0d0887\"], [0.1111111111111111, \"#46039f\"], [0.2222222222222222, \"#7201a8\"], [0.3333333333333333, \"#9c179e\"], [0.4444444444444444, \"#bd3786\"], [0.5555555555555556, \"#d8576b\"], [0.6666666666666666, \"#ed7953\"], [0.7777777777777778, \"#fb9f3a\"], [0.8888888888888888, \"#fdca26\"], [1.0, \"#f0f921\"]], \"sequentialminus\": [[0.0, \"#0d0887\"], [0.1111111111111111, \"#46039f\"], [0.2222222222222222, \"#7201a8\"], [0.3333333333333333, \"#9c179e\"], [0.4444444444444444, \"#bd3786\"], [0.5555555555555556, \"#d8576b\"], [0.6666666666666666, \"#ed7953\"], [0.7777777777777778, \"#fb9f3a\"], [0.8888888888888888, \"#fdca26\"], [1.0, \"#f0f921\"]]}, \"colorway\": [\"#636efa\", \"#EF553B\", \"#00cc96\", \"#ab63fa\", \"#FFA15A\", \"#19d3f3\", \"#FF6692\", \"#B6E880\", \"#FF97FF\", \"#FECB52\"], \"font\": {\"color\": \"#2a3f5f\"}, \"geo\": {\"bgcolor\": \"white\", \"lakecolor\": \"white\", \"landcolor\": \"#E5ECF6\", \"showlakes\": true, \"showland\": true, \"subunitcolor\": \"white\"}, \"hoverlabel\": {\"align\": \"left\"}, \"hovermode\": \"closest\", \"mapbox\": {\"style\": \"light\"}, \"paper_bgcolor\": \"white\", \"plot_bgcolor\": \"#E5ECF6\", \"polar\": {\"angularaxis\": {\"gridcolor\": \"white\", \"linecolor\": \"white\", \"ticks\": \"\"}, \"bgcolor\": \"#E5ECF6\", \"radialaxis\": {\"gridcolor\": \"white\", \"linecolor\": \"white\", \"ticks\": \"\"}}, \"scene\": {\"xaxis\": {\"backgroundcolor\": \"#E5ECF6\", \"gridcolor\": \"white\", \"gridwidth\": 2, \"linecolor\": \"white\", \"showbackground\": true, \"ticks\": \"\", \"zerolinecolor\": \"white\"}, \"yaxis\": {\"backgroundcolor\": \"#E5ECF6\", \"gridcolor\": \"white\", \"gridwidth\": 2, \"linecolor\": \"white\", \"showbackground\": true, \"ticks\": \"\", \"zerolinecolor\": \"white\"}, \"zaxis\": {\"backgroundcolor\": \"#E5ECF6\", \"gridcolor\": \"white\", \"gridwidth\": 2, \"linecolor\": \"white\", \"showbackground\": true, \"ticks\": \"\", \"zerolinecolor\": \"white\"}}, \"shapedefaults\": {\"line\": {\"color\": \"#2a3f5f\"}}, \"ternary\": {\"aaxis\": {\"gridcolor\": \"white\", \"linecolor\": \"white\", \"ticks\": \"\"}, \"baxis\": {\"gridcolor\": \"white\", \"linecolor\": \"white\", \"ticks\": \"\"}, \"bgcolor\": \"#E5ECF6\", \"caxis\": {\"gridcolor\": \"white\", \"linecolor\": \"white\", \"ticks\": \"\"}}, \"title\": {\"x\": 0.05}, \"xaxis\": {\"automargin\": true, \"gridcolor\": \"white\", \"linecolor\": \"white\", \"ticks\": \"\", \"title\": {\"standoff\": 15}, \"zerolinecolor\": \"white\", \"zerolinewidth\": 2}, \"yaxis\": {\"automargin\": true, \"gridcolor\": \"white\", \"linecolor\": \"white\", \"ticks\": \"\", \"title\": {\"standoff\": 15}, \"zerolinecolor\": \"white\", \"zerolinewidth\": 2}}}, \"title\": {\"text\": \"Variation in S&P 500 Dividends since 1988\"}, \"xaxis\": {\"anchor\": \"y\", \"domain\": [0.0, 1.0], \"rangeselector\": {\"buttons\": [{\"count\": 1, \"label\": \"1y\", \"step\": \"year\", \"stepmode\": \"backward\"}, {\"count\": 5, \"label\": \"5y\", \"step\": \"year\", \"stepmode\": \"backward\"}, {\"step\": \"all\"}]}, \"rangeslider\": {\"visible\": true}, \"title\": {\"text\": \"DATE\"}, \"type\": \"date\"}, \"yaxis\": {\"anchor\": \"x\", \"domain\": [0.0, 1.0], \"title\": {\"text\": \"Divident per share ($)\"}}},                        {\"responsive\": true}                    ).then(function(){\n",
       "                            \n",
       "var gd = document.getElementById('435fdfea-ceac-4002-aefa-56801bcd8f12');\n",
       "var x = new MutationObserver(function (mutations, observer) {{\n",
       "        var display = window.getComputedStyle(gd).display;\n",
       "        if (!display || display === 'none') {{\n",
       "            console.log([gd, 'removed!']);\n",
       "            Plotly.purge(gd);\n",
       "            observer.disconnect();\n",
       "        }}\n",
       "}});\n",
       "\n",
       "// Listen for the removal of the full notebook cells\n",
       "var notebookContainer = gd.closest('#notebook-container');\n",
       "if (notebookContainer) {{\n",
       "    x.observe(notebookContainer, {childList: true});\n",
       "}}\n",
       "\n",
       "// Listen for the clearing of the current output cell\n",
       "var outputEl = gd.closest('.output');\n",
       "if (outputEl) {{\n",
       "    x.observe(outputEl, {childList: true});\n",
       "}}\n",
       "\n",
       "                        })                };                });            </script>        </div>"
      ]
     },
     "metadata": {},
     "output_type": "display_data"
    }
   ],
   "source": [
    "\n",
    "plot = px.line(Quarterly,x = 'DATE', y = [\"CASH_DIVIDENDS_PER_SHARE\",\"ROLLING_AVERAGE_DIVIDENDS PER SHARE\"],\n",
    "              labels={\n",
    "                         \"value\": \"Divident per share ($)\"\n",
    "                     },\n",
    "              title=\"Variation in S&P 500 Dividends since 1988\")\n",
    "range_slider(plot,buttons)\n",
    "plot.show()"
   ]
  },
  {
   "cell_type": "markdown",
   "metadata": {},
   "source": [
    "Approximating the divident growth is difficult. Suppose we approximated the slope begining in 2010. We'd get a different result than if we started in 1990. The problem here is working out whether something fundamentally changed in 2007 which altered the rate of divident growth, or whether this is just a deviation that will converge back to a constant historic mean. We also see a substantial slump at the very top of the curve in 2020. If we're valuing the market now, and we care more about more immediate rewards (the time value of money), then maybe we should pay more attention to current trends."
   ]
  },
  {
   "cell_type": "markdown",
   "metadata": {},
   "source": [
    "### Predicting Growth\n",
    "\n",
    "We can use a polynomial regressor to try and predict the growth of the S&P"
   ]
  },
  {
   "cell_type": "code",
   "execution_count": 324,
   "metadata": {},
   "outputs": [
    {
     "data": {
      "text/plain": [
       "Pipeline(steps=[('polynomialfeatures', PolynomialFeatures(degree=3)),\n",
       "                ('linearregression', LinearRegression())])"
      ]
     },
     "execution_count": 324,
     "metadata": {},
     "output_type": "execute_result"
    }
   ],
   "source": [
    "degree=3\n",
    "polyreg=make_pipeline(PolynomialFeatures(degree),LinearRegression())\n",
    "polyreg.fit(date,Quarterly.CASH_DIVIDENDS_PER_SHARE)"
   ]
  },
  {
   "cell_type": "code",
   "execution_count": 330,
   "metadata": {},
   "outputs": [],
   "source": [
    "Quarterly['POLY_REG_DIVS'] = polyreg.predict(date)"
   ]
  },
  {
   "cell_type": "code",
   "execution_count": 332,
   "metadata": {},
   "outputs": [
    {
     "data": {
      "application/vnd.plotly.v1+json": {
       "config": {
        "plotlyServerURL": "https://plot.ly"
       },
       "data": [
        {
         "hovertemplate": "variable=CASH_DIVIDENDS_PER_SHARE<br>DATE=%{x}<br>Divident per share ($)=%{y}<extra></extra>",
         "legendgroup": "CASH_DIVIDENDS_PER_SHARE",
         "line": {
          "color": "#636efa",
          "dash": "solid"
         },
         "mode": "lines",
         "name": "CASH_DIVIDENDS_PER_SHARE",
         "orientation": "v",
         "showlegend": true,
         "type": "scatter",
         "x": [
          "1988-03-31T00:00:00",
          "1988-06-30T00:00:00",
          "1988-09-30T00:00:00",
          "1988-12-31T00:00:00",
          "1989-03-31T00:00:00",
          "1989-06-30T00:00:00",
          "1989-09-30T00:00:00",
          "1989-12-31T00:00:00",
          "1990-03-31T00:00:00",
          "1990-06-30T00:00:00",
          "1990-09-30T00:00:00",
          "1990-12-31T00:00:00",
          "1991-03-31T00:00:00",
          "1991-06-30T00:00:00",
          "1991-09-30T00:00:00",
          "1991-12-31T00:00:00",
          "1992-03-31T00:00:00",
          "1992-06-30T00:00:00",
          "1992-09-30T00:00:00",
          "1992-12-31T00:00:00",
          "1993-03-31T00:00:00",
          "1993-06-30T00:00:00",
          "1993-09-30T00:00:00",
          "1993-12-31T00:00:00",
          "1994-03-31T00:00:00",
          "1994-06-30T00:00:00",
          "1994-09-30T00:00:00",
          "1994-12-31T00:00:00",
          "1995-03-31T00:00:00",
          "1995-06-30T00:00:00",
          "1995-09-30T00:00:00",
          "1995-12-31T00:00:00",
          "1996-03-31T00:00:00",
          "1996-06-30T00:00:00",
          "1996-09-30T00:00:00",
          "1996-12-31T00:00:00",
          "1997-03-31T00:00:00",
          "1997-06-30T00:00:00",
          "1997-09-30T00:00:00",
          "1997-12-31T00:00:00",
          "1998-03-31T00:00:00",
          "1998-06-30T00:00:00",
          "1998-09-30T00:00:00",
          "1998-12-31T00:00:00",
          "1999-03-31T00:00:00",
          "1999-06-30T00:00:00",
          "1999-09-30T00:00:00",
          "1999-12-31T00:00:00",
          "2000-03-31T00:00:00",
          "2000-06-30T00:00:00",
          "2000-09-30T00:00:00",
          "2000-12-31T00:00:00",
          "2001-03-31T00:00:00",
          "2001-06-30T00:00:00",
          "2001-09-30T00:00:00",
          "2001-12-31T00:00:00",
          "2002-03-31T00:00:00",
          "2002-06-30T00:00:00",
          "2002-09-30T00:00:00",
          "2002-12-31T00:00:00",
          "2003-03-31T00:00:00",
          "2003-06-30T00:00:00",
          "2003-09-30T00:00:00",
          "2003-12-31T00:00:00",
          "2004-03-31T00:00:00",
          "2004-06-30T00:00:00",
          "2004-09-30T00:00:00",
          "2004-12-31T00:00:00",
          "2005-03-31T00:00:00",
          "2005-06-30T00:00:00",
          "2005-09-30T00:00:00",
          "2005-12-31T00:00:00",
          "2006-03-31T00:00:00",
          "2006-06-30T00:00:00",
          "2006-09-30T00:00:00",
          "2006-12-31T00:00:00",
          "2007-03-31T00:00:00",
          "2007-06-30T00:00:00",
          "2007-09-30T00:00:00",
          "2007-12-31T00:00:00",
          "2008-03-31T00:00:00",
          "2008-06-30T00:00:00",
          "2008-09-30T00:00:00",
          "2008-12-31T00:00:00",
          "2009-03-31T00:00:00",
          "2009-06-30T00:00:00",
          "2009-09-30T00:00:00",
          "2009-12-31T00:00:00",
          "2010-03-31T00:00:00",
          "2010-06-30T00:00:00",
          "2010-09-30T00:00:00",
          "2010-12-31T00:00:00",
          "2011-03-31T00:00:00",
          "2011-06-30T00:00:00",
          "2011-09-30T00:00:00",
          "2011-12-31T00:00:00",
          "2012-03-31T00:00:00",
          "2012-06-30T00:00:00",
          "2012-09-30T00:00:00",
          "2012-12-31T00:00:00",
          "2013-03-31T00:00:00",
          "2013-06-30T00:00:00",
          "2013-09-30T00:00:00",
          "2013-12-31T00:00:00",
          "2014-03-31T00:00:00",
          "2014-06-30T00:00:00",
          "2014-09-30T00:00:00",
          "2014-12-31T00:00:00",
          "2015-03-31T00:00:00",
          "2015-06-30T00:00:00",
          "2015-09-30T00:00:00",
          "2015-12-31T00:00:00",
          "2016-03-31T00:00:00",
          "2016-06-30T00:00:00",
          "2016-09-30T00:00:00",
          "2016-12-31T00:00:00",
          "2017-03-31T00:00:00",
          "2017-06-30T00:00:00",
          "2017-09-30T00:00:00",
          "2017-12-29T00:00:00",
          "2018-03-29T00:00:00",
          "2018-06-29T00:00:00",
          "2018-09-28T00:00:00",
          "2018-12-31T00:00:00",
          "2019-03-29T00:00:00",
          "2019-06-28T00:00:00",
          "2019-09-30T00:00:00",
          "2019-12-31T00:00:00",
          "2020-03-31T00:00:00",
          "2020-06-30T00:00:00",
          "2020-09-30T00:00:00",
          "2020-12-31T00:00:00"
         ],
         "xaxis": "x",
         "y": [
          2.24,
          2.5,
          2.46,
          2.54,
          2.5,
          2.86,
          2.83,
          2.86,
          2.77,
          3.21,
          3,
          3.12,
          2.79,
          3.24,
          3.13,
          3.04,
          2.91,
          3.24,
          3.2,
          3.03,
          3.01,
          3.28,
          3.2,
          3.09,
          3.14,
          3.41,
          3.29,
          3.34,
          3.14,
          3.6,
          3.5,
          3.55,
          3.45,
          3.77,
          3.89,
          3.79,
          3.61,
          3.87,
          4.06,
          3.95,
          3.76,
          4.18,
          4.26,
          4,
          4.01,
          4.18,
          4.45,
          4.05,
          4.08,
          4.12,
          4.09,
          3.98,
          3.78,
          3.84,
          4.14,
          3.98,
          3.77,
          4.15,
          3.9,
          4.26,
          3.92,
          4.09,
          4.32,
          5.06,
          4.56,
          4.66,
          4.88,
          5.33,
          5.34,
          5.36,
          5.43,
          6.08,
          5.91,
          6.02,
          6.09,
          6.87,
          6.52,
          6.69,
          6.9,
          7.62,
          7.09,
          7.1,
          7.04,
          7.15,
          5.96,
          5.44,
          5.35,
          5.66,
          5.46,
          5.58,
          5.66,
          6.03,
          6.16,
          6.49,
          6.5,
          7.28,
          7.09,
          7.45,
          7.77,
          8.93,
          7.95,
          8.61,
          8.91,
          9.52,
          9.19,
          9.76,
          10.02,
          10.47,
          10.55,
          10.69,
          10.79,
          11.35,
          11.04,
          11.28,
          11.36,
          12.02,
          11.72,
          12.12,
          12.31,
          12.78,
          12.79,
          13.1,
          13.66,
          14.19,
          13.98,
          14.24,
          14.8,
          15.21,
          15.32,
          14.35,
          13.97,
          14.64
         ],
         "yaxis": "y"
        },
        {
         "hovertemplate": "variable=ROLLING_AVERAGE_DIVIDENDS PER SHARE<br>DATE=%{x}<br>Divident per share ($)=%{y}<extra></extra>",
         "legendgroup": "ROLLING_AVERAGE_DIVIDENDS PER SHARE",
         "line": {
          "color": "#EF553B",
          "dash": "solid"
         },
         "mode": "lines",
         "name": "ROLLING_AVERAGE_DIVIDENDS PER SHARE",
         "orientation": "v",
         "showlegend": true,
         "type": "scatter",
         "x": [
          "1988-03-31T00:00:00",
          "1988-06-30T00:00:00",
          "1988-09-30T00:00:00",
          "1988-12-31T00:00:00",
          "1989-03-31T00:00:00",
          "1989-06-30T00:00:00",
          "1989-09-30T00:00:00",
          "1989-12-31T00:00:00",
          "1990-03-31T00:00:00",
          "1990-06-30T00:00:00",
          "1990-09-30T00:00:00",
          "1990-12-31T00:00:00",
          "1991-03-31T00:00:00",
          "1991-06-30T00:00:00",
          "1991-09-30T00:00:00",
          "1991-12-31T00:00:00",
          "1992-03-31T00:00:00",
          "1992-06-30T00:00:00",
          "1992-09-30T00:00:00",
          "1992-12-31T00:00:00",
          "1993-03-31T00:00:00",
          "1993-06-30T00:00:00",
          "1993-09-30T00:00:00",
          "1993-12-31T00:00:00",
          "1994-03-31T00:00:00",
          "1994-06-30T00:00:00",
          "1994-09-30T00:00:00",
          "1994-12-31T00:00:00",
          "1995-03-31T00:00:00",
          "1995-06-30T00:00:00",
          "1995-09-30T00:00:00",
          "1995-12-31T00:00:00",
          "1996-03-31T00:00:00",
          "1996-06-30T00:00:00",
          "1996-09-30T00:00:00",
          "1996-12-31T00:00:00",
          "1997-03-31T00:00:00",
          "1997-06-30T00:00:00",
          "1997-09-30T00:00:00",
          "1997-12-31T00:00:00",
          "1998-03-31T00:00:00",
          "1998-06-30T00:00:00",
          "1998-09-30T00:00:00",
          "1998-12-31T00:00:00",
          "1999-03-31T00:00:00",
          "1999-06-30T00:00:00",
          "1999-09-30T00:00:00",
          "1999-12-31T00:00:00",
          "2000-03-31T00:00:00",
          "2000-06-30T00:00:00",
          "2000-09-30T00:00:00",
          "2000-12-31T00:00:00",
          "2001-03-31T00:00:00",
          "2001-06-30T00:00:00",
          "2001-09-30T00:00:00",
          "2001-12-31T00:00:00",
          "2002-03-31T00:00:00",
          "2002-06-30T00:00:00",
          "2002-09-30T00:00:00",
          "2002-12-31T00:00:00",
          "2003-03-31T00:00:00",
          "2003-06-30T00:00:00",
          "2003-09-30T00:00:00",
          "2003-12-31T00:00:00",
          "2004-03-31T00:00:00",
          "2004-06-30T00:00:00",
          "2004-09-30T00:00:00",
          "2004-12-31T00:00:00",
          "2005-03-31T00:00:00",
          "2005-06-30T00:00:00",
          "2005-09-30T00:00:00",
          "2005-12-31T00:00:00",
          "2006-03-31T00:00:00",
          "2006-06-30T00:00:00",
          "2006-09-30T00:00:00",
          "2006-12-31T00:00:00",
          "2007-03-31T00:00:00",
          "2007-06-30T00:00:00",
          "2007-09-30T00:00:00",
          "2007-12-31T00:00:00",
          "2008-03-31T00:00:00",
          "2008-06-30T00:00:00",
          "2008-09-30T00:00:00",
          "2008-12-31T00:00:00",
          "2009-03-31T00:00:00",
          "2009-06-30T00:00:00",
          "2009-09-30T00:00:00",
          "2009-12-31T00:00:00",
          "2010-03-31T00:00:00",
          "2010-06-30T00:00:00",
          "2010-09-30T00:00:00",
          "2010-12-31T00:00:00",
          "2011-03-31T00:00:00",
          "2011-06-30T00:00:00",
          "2011-09-30T00:00:00",
          "2011-12-31T00:00:00",
          "2012-03-31T00:00:00",
          "2012-06-30T00:00:00",
          "2012-09-30T00:00:00",
          "2012-12-31T00:00:00",
          "2013-03-31T00:00:00",
          "2013-06-30T00:00:00",
          "2013-09-30T00:00:00",
          "2013-12-31T00:00:00",
          "2014-03-31T00:00:00",
          "2014-06-30T00:00:00",
          "2014-09-30T00:00:00",
          "2014-12-31T00:00:00",
          "2015-03-31T00:00:00",
          "2015-06-30T00:00:00",
          "2015-09-30T00:00:00",
          "2015-12-31T00:00:00",
          "2016-03-31T00:00:00",
          "2016-06-30T00:00:00",
          "2016-09-30T00:00:00",
          "2016-12-31T00:00:00",
          "2017-03-31T00:00:00",
          "2017-06-30T00:00:00",
          "2017-09-30T00:00:00",
          "2017-12-29T00:00:00",
          "2018-03-29T00:00:00",
          "2018-06-29T00:00:00",
          "2018-09-28T00:00:00",
          "2018-12-31T00:00:00",
          "2019-03-29T00:00:00",
          "2019-06-28T00:00:00",
          "2019-09-30T00:00:00",
          "2019-12-31T00:00:00",
          "2020-03-31T00:00:00",
          "2020-06-30T00:00:00",
          "2020-09-30T00:00:00",
          "2020-12-31T00:00:00"
         ],
         "xaxis": "x",
         "y": [
          null,
          null,
          null,
          null,
          null,
          null,
          null,
          null,
          null,
          2.677,
          2.753,
          2.8150000000000004,
          2.848,
          2.918,
          2.9810000000000003,
          2.999,
          3.0070000000000006,
          3.045000000000001,
          3.0880000000000014,
          3.070000000000001,
          3.0710000000000006,
          3.0870000000000006,
          3.128000000000001,
          3.1130000000000004,
          3.1140000000000003,
          3.1510000000000007,
          3.1890000000000005,
          3.1990000000000003,
          3.1930000000000005,
          3.25,
          3.2990000000000004,
          3.3259999999999996,
          3.351,
          3.4189999999999996,
          3.4939999999999998,
          3.531999999999999,
          3.563999999999999,
          3.6169999999999987,
          3.7089999999999987,
          3.743999999999999,
          3.7699999999999987,
          3.8329999999999993,
          3.913999999999999,
          3.9369999999999985,
          3.948999999999998,
          3.987999999999998,
          4.071999999999998,
          4.089999999999998,
          4.091999999999998,
          4.108999999999997,
          4.141999999999998,
          4.121999999999998,
          4.073999999999998,
          4.057999999999998,
          4.070999999999999,
          4.050999999999998,
          3.9829999999999983,
          3.9929999999999986,
          3.9749999999999988,
          3.9889999999999985,
          3.9719999999999986,
          3.982999999999999,
          4.036999999999999,
          4.158999999999999,
          4.200999999999999,
          4.268999999999999,
          4.379999999999999,
          4.497999999999999,
          4.6419999999999995,
          4.752,
          4.903,
          5.101999999999999,
          5.260999999999999,
          5.356999999999999,
          5.51,
          5.730999999999999,
          5.894999999999998,
          6.030999999999999,
          6.186999999999999,
          6.412999999999999,
          6.578999999999999,
          6.680999999999999,
          6.794,
          6.907000000000001,
          6.894,
          6.7509999999999994,
          6.633999999999999,
          6.530999999999999,
          6.386999999999999,
          6.182999999999999,
          6.039999999999999,
          5.932999999999999,
          5.845,
          5.779,
          5.832999999999999,
          6.016999999999999,
          6.190999999999999,
          6.369999999999999,
          6.600999999999999,
          6.936,
          7.165000000000001,
          7.423,
          7.698,
          8.001000000000001,
          8.27,
          8.518,
          8.811,
          9.113,
          9.391,
          9.566999999999998,
          9.850999999999997,
          10.124999999999996,
          10.337999999999997,
          10.513999999999998,
          10.730999999999998,
          10.956999999999997,
          11.126999999999997,
          11.291999999999998,
          11.467999999999998,
          11.676999999999998,
          11.876999999999999,
          12.051999999999998,
          12.313999999999998,
          12.604999999999999,
          12.866999999999996,
          13.088999999999995,
          13.396999999999997,
          13.705999999999998,
          14.006999999999996,
          14.163999999999996,
          14.281999999999996,
          14.435999999999998
         ],
         "yaxis": "y"
        },
        {
         "hovertemplate": "variable=POLY_REG_DIVS<br>DATE=%{x}<br>Divident per share ($)=%{y}<extra></extra>",
         "legendgroup": "POLY_REG_DIVS",
         "line": {
          "color": "#00cc96",
          "dash": "solid"
         },
         "mode": "lines",
         "name": "POLY_REG_DIVS",
         "orientation": "v",
         "showlegend": true,
         "type": "scatter",
         "x": [
          "1988-03-31T00:00:00",
          "1988-06-30T00:00:00",
          "1988-09-30T00:00:00",
          "1988-12-31T00:00:00",
          "1989-03-31T00:00:00",
          "1989-06-30T00:00:00",
          "1989-09-30T00:00:00",
          "1989-12-31T00:00:00",
          "1990-03-31T00:00:00",
          "1990-06-30T00:00:00",
          "1990-09-30T00:00:00",
          "1990-12-31T00:00:00",
          "1991-03-31T00:00:00",
          "1991-06-30T00:00:00",
          "1991-09-30T00:00:00",
          "1991-12-31T00:00:00",
          "1992-03-31T00:00:00",
          "1992-06-30T00:00:00",
          "1992-09-30T00:00:00",
          "1992-12-31T00:00:00",
          "1993-03-31T00:00:00",
          "1993-06-30T00:00:00",
          "1993-09-30T00:00:00",
          "1993-12-31T00:00:00",
          "1994-03-31T00:00:00",
          "1994-06-30T00:00:00",
          "1994-09-30T00:00:00",
          "1994-12-31T00:00:00",
          "1995-03-31T00:00:00",
          "1995-06-30T00:00:00",
          "1995-09-30T00:00:00",
          "1995-12-31T00:00:00",
          "1996-03-31T00:00:00",
          "1996-06-30T00:00:00",
          "1996-09-30T00:00:00",
          "1996-12-31T00:00:00",
          "1997-03-31T00:00:00",
          "1997-06-30T00:00:00",
          "1997-09-30T00:00:00",
          "1997-12-31T00:00:00",
          "1998-03-31T00:00:00",
          "1998-06-30T00:00:00",
          "1998-09-30T00:00:00",
          "1998-12-31T00:00:00",
          "1999-03-31T00:00:00",
          "1999-06-30T00:00:00",
          "1999-09-30T00:00:00",
          "1999-12-31T00:00:00",
          "2000-03-31T00:00:00",
          "2000-06-30T00:00:00",
          "2000-09-30T00:00:00",
          "2000-12-31T00:00:00",
          "2001-03-31T00:00:00",
          "2001-06-30T00:00:00",
          "2001-09-30T00:00:00",
          "2001-12-31T00:00:00",
          "2002-03-31T00:00:00",
          "2002-06-30T00:00:00",
          "2002-09-30T00:00:00",
          "2002-12-31T00:00:00",
          "2003-03-31T00:00:00",
          "2003-06-30T00:00:00",
          "2003-09-30T00:00:00",
          "2003-12-31T00:00:00",
          "2004-03-31T00:00:00",
          "2004-06-30T00:00:00",
          "2004-09-30T00:00:00",
          "2004-12-31T00:00:00",
          "2005-03-31T00:00:00",
          "2005-06-30T00:00:00",
          "2005-09-30T00:00:00",
          "2005-12-31T00:00:00",
          "2006-03-31T00:00:00",
          "2006-06-30T00:00:00",
          "2006-09-30T00:00:00",
          "2006-12-31T00:00:00",
          "2007-03-31T00:00:00",
          "2007-06-30T00:00:00",
          "2007-09-30T00:00:00",
          "2007-12-31T00:00:00",
          "2008-03-31T00:00:00",
          "2008-06-30T00:00:00",
          "2008-09-30T00:00:00",
          "2008-12-31T00:00:00",
          "2009-03-31T00:00:00",
          "2009-06-30T00:00:00",
          "2009-09-30T00:00:00",
          "2009-12-31T00:00:00",
          "2010-03-31T00:00:00",
          "2010-06-30T00:00:00",
          "2010-09-30T00:00:00",
          "2010-12-31T00:00:00",
          "2011-03-31T00:00:00",
          "2011-06-30T00:00:00",
          "2011-09-30T00:00:00",
          "2011-12-31T00:00:00",
          "2012-03-31T00:00:00",
          "2012-06-30T00:00:00",
          "2012-09-30T00:00:00",
          "2012-12-31T00:00:00",
          "2013-03-31T00:00:00",
          "2013-06-30T00:00:00",
          "2013-09-30T00:00:00",
          "2013-12-31T00:00:00",
          "2014-03-31T00:00:00",
          "2014-06-30T00:00:00",
          "2014-09-30T00:00:00",
          "2014-12-31T00:00:00",
          "2015-03-31T00:00:00",
          "2015-06-30T00:00:00",
          "2015-09-30T00:00:00",
          "2015-12-31T00:00:00",
          "2016-03-31T00:00:00",
          "2016-06-30T00:00:00",
          "2016-09-30T00:00:00",
          "2016-12-31T00:00:00",
          "2017-03-31T00:00:00",
          "2017-06-30T00:00:00",
          "2017-09-30T00:00:00",
          "2017-12-29T00:00:00",
          "2018-03-29T00:00:00",
          "2018-06-29T00:00:00",
          "2018-09-28T00:00:00",
          "2018-12-31T00:00:00",
          "2019-03-29T00:00:00",
          "2019-06-28T00:00:00",
          "2019-09-30T00:00:00",
          "2019-12-31T00:00:00",
          "2020-03-31T00:00:00",
          "2020-06-30T00:00:00",
          "2020-09-30T00:00:00",
          "2020-12-31T00:00:00"
         ],
         "xaxis": "x",
         "y": [
          2.0572406593678556,
          2.081203151108502,
          2.1060942237193334,
          2.1316632649461167,
          2.157341229375843,
          2.1839817369059946,
          2.2116161987951624,
          2.2399647704635393,
          2.268396811947078,
          2.2978571628586053,
          2.3283784001629453,
          2.359649888409751,
          2.3909762759940074,
          2.42339829787878,
          2.456949696735128,
          2.4912874876971998,
          2.526034587848244,
          2.5615688058505848,
          2.5983026440044794,
          2.6358591144442407,
          2.673403892359323,
          2.712183825087395,
          2.7522349899057006,
          2.7931449281731293,
          2.8340052436284013,
          2.876172718674074,
          2.919684596293626,
          2.964091388525558,
          3.008407510567925,
          3.0541043555230685,
          3.1012203320807026,
          3.1492673644139746,
          3.197717006011999,
          3.2470953013604875,
          3.2979692270329375,
          3.349810448661168,
          3.401469420255023,
          3.4546611292654683,
          3.5094263189884027,
          3.5651949458303753,
          3.620730915450797,
          3.677877865715069,
          3.736677705625324,
          3.7965171238178748,
          3.856070360511767,
          3.9173143796217356,
          3.9802922558561473,
          4.044345851536112,
          4.108770385665569,
          4.17426510944466,
          4.241576444611155,
          4.309999739403347,
          4.37802028486939,
          4.4478961212466634,
          4.5196726578497195,
          4.5925972952417276,
          4.665056299220713,
          4.7394550757880385,
          4.815840199964489,
          4.893409566093149,
          4.970447297631983,
          5.049510841981231,
          5.130647939867911,
          5.21300542087006,
          5.295677198615403,
          5.37956070190955,
          5.465606768545584,
          5.552909458477229,
          5.639538958008876,
          5.728371272837429,
          5.819456478296098,
          5.911834448213633,
          6.0034638667446,
          6.097386820699431,
          6.193654551117568,
          6.291251187157829,
          6.388020793735023,
          6.487176214408001,
          6.588769855922443,
          6.691728544222267,
          6.7949199166679515,
          6.899464550561607,
          7.0065426706426726,
          7.115022077689261,
          7.222507911479927,
          7.332569055844215,
          7.445260252133989,
          7.559388876552542,
          7.6724360898289055,
          7.788155572255698,
          7.906603230891013,
          8.026524458818367,
          8.145273320627332,
          8.266792968708499,
          8.391140475826193,
          8.516997693399183,
          8.642981011629661,
          8.770459127207282,
          8.900866622708868,
          9.03282006884589,
          9.163409617088995,
          9.29697194207347,
          9.433566451169838,
          9.571743052064903,
          9.70845544028008,
          9.848243802263283,
          9.99116871109127,
          10.135711852881208,
          10.278687350115366,
          10.42484357668917,
          10.574242271385607,
          10.725295340207257,
          10.876342955306985,
          11.029026903653023,
          11.18506109655062,
          11.342785903753573,
          11.498726546642523,
          11.658062403331645,
          11.8208575472101,
          11.98178445859589,
          12.1443723934464,
          12.31229907450771,
          12.480125632006295,
          12.655295841152807,
          12.820961324688493,
          12.99398809131197,
          13.17455771440714,
          13.353103956452937,
          13.531488219506368,
          13.711650351705273,
          13.895608563974378,
          14.08140205421875
         ],
         "yaxis": "y"
        }
       ],
       "layout": {
        "legend": {
         "title": {
          "text": "variable"
         },
         "tracegroupgap": 0
        },
        "template": {
         "data": {
          "bar": [
           {
            "error_x": {
             "color": "#2a3f5f"
            },
            "error_y": {
             "color": "#2a3f5f"
            },
            "marker": {
             "line": {
              "color": "#E5ECF6",
              "width": 0.5
             }
            },
            "type": "bar"
           }
          ],
          "barpolar": [
           {
            "marker": {
             "line": {
              "color": "#E5ECF6",
              "width": 0.5
             }
            },
            "type": "barpolar"
           }
          ],
          "carpet": [
           {
            "aaxis": {
             "endlinecolor": "#2a3f5f",
             "gridcolor": "white",
             "linecolor": "white",
             "minorgridcolor": "white",
             "startlinecolor": "#2a3f5f"
            },
            "baxis": {
             "endlinecolor": "#2a3f5f",
             "gridcolor": "white",
             "linecolor": "white",
             "minorgridcolor": "white",
             "startlinecolor": "#2a3f5f"
            },
            "type": "carpet"
           }
          ],
          "choropleth": [
           {
            "colorbar": {
             "outlinewidth": 0,
             "ticks": ""
            },
            "type": "choropleth"
           }
          ],
          "contour": [
           {
            "colorbar": {
             "outlinewidth": 0,
             "ticks": ""
            },
            "colorscale": [
             [
              0,
              "#0d0887"
             ],
             [
              0.1111111111111111,
              "#46039f"
             ],
             [
              0.2222222222222222,
              "#7201a8"
             ],
             [
              0.3333333333333333,
              "#9c179e"
             ],
             [
              0.4444444444444444,
              "#bd3786"
             ],
             [
              0.5555555555555556,
              "#d8576b"
             ],
             [
              0.6666666666666666,
              "#ed7953"
             ],
             [
              0.7777777777777778,
              "#fb9f3a"
             ],
             [
              0.8888888888888888,
              "#fdca26"
             ],
             [
              1,
              "#f0f921"
             ]
            ],
            "type": "contour"
           }
          ],
          "contourcarpet": [
           {
            "colorbar": {
             "outlinewidth": 0,
             "ticks": ""
            },
            "type": "contourcarpet"
           }
          ],
          "heatmap": [
           {
            "colorbar": {
             "outlinewidth": 0,
             "ticks": ""
            },
            "colorscale": [
             [
              0,
              "#0d0887"
             ],
             [
              0.1111111111111111,
              "#46039f"
             ],
             [
              0.2222222222222222,
              "#7201a8"
             ],
             [
              0.3333333333333333,
              "#9c179e"
             ],
             [
              0.4444444444444444,
              "#bd3786"
             ],
             [
              0.5555555555555556,
              "#d8576b"
             ],
             [
              0.6666666666666666,
              "#ed7953"
             ],
             [
              0.7777777777777778,
              "#fb9f3a"
             ],
             [
              0.8888888888888888,
              "#fdca26"
             ],
             [
              1,
              "#f0f921"
             ]
            ],
            "type": "heatmap"
           }
          ],
          "heatmapgl": [
           {
            "colorbar": {
             "outlinewidth": 0,
             "ticks": ""
            },
            "colorscale": [
             [
              0,
              "#0d0887"
             ],
             [
              0.1111111111111111,
              "#46039f"
             ],
             [
              0.2222222222222222,
              "#7201a8"
             ],
             [
              0.3333333333333333,
              "#9c179e"
             ],
             [
              0.4444444444444444,
              "#bd3786"
             ],
             [
              0.5555555555555556,
              "#d8576b"
             ],
             [
              0.6666666666666666,
              "#ed7953"
             ],
             [
              0.7777777777777778,
              "#fb9f3a"
             ],
             [
              0.8888888888888888,
              "#fdca26"
             ],
             [
              1,
              "#f0f921"
             ]
            ],
            "type": "heatmapgl"
           }
          ],
          "histogram": [
           {
            "marker": {
             "colorbar": {
              "outlinewidth": 0,
              "ticks": ""
             }
            },
            "type": "histogram"
           }
          ],
          "histogram2d": [
           {
            "colorbar": {
             "outlinewidth": 0,
             "ticks": ""
            },
            "colorscale": [
             [
              0,
              "#0d0887"
             ],
             [
              0.1111111111111111,
              "#46039f"
             ],
             [
              0.2222222222222222,
              "#7201a8"
             ],
             [
              0.3333333333333333,
              "#9c179e"
             ],
             [
              0.4444444444444444,
              "#bd3786"
             ],
             [
              0.5555555555555556,
              "#d8576b"
             ],
             [
              0.6666666666666666,
              "#ed7953"
             ],
             [
              0.7777777777777778,
              "#fb9f3a"
             ],
             [
              0.8888888888888888,
              "#fdca26"
             ],
             [
              1,
              "#f0f921"
             ]
            ],
            "type": "histogram2d"
           }
          ],
          "histogram2dcontour": [
           {
            "colorbar": {
             "outlinewidth": 0,
             "ticks": ""
            },
            "colorscale": [
             [
              0,
              "#0d0887"
             ],
             [
              0.1111111111111111,
              "#46039f"
             ],
             [
              0.2222222222222222,
              "#7201a8"
             ],
             [
              0.3333333333333333,
              "#9c179e"
             ],
             [
              0.4444444444444444,
              "#bd3786"
             ],
             [
              0.5555555555555556,
              "#d8576b"
             ],
             [
              0.6666666666666666,
              "#ed7953"
             ],
             [
              0.7777777777777778,
              "#fb9f3a"
             ],
             [
              0.8888888888888888,
              "#fdca26"
             ],
             [
              1,
              "#f0f921"
             ]
            ],
            "type": "histogram2dcontour"
           }
          ],
          "mesh3d": [
           {
            "colorbar": {
             "outlinewidth": 0,
             "ticks": ""
            },
            "type": "mesh3d"
           }
          ],
          "parcoords": [
           {
            "line": {
             "colorbar": {
              "outlinewidth": 0,
              "ticks": ""
             }
            },
            "type": "parcoords"
           }
          ],
          "pie": [
           {
            "automargin": true,
            "type": "pie"
           }
          ],
          "scatter": [
           {
            "marker": {
             "colorbar": {
              "outlinewidth": 0,
              "ticks": ""
             }
            },
            "type": "scatter"
           }
          ],
          "scatter3d": [
           {
            "line": {
             "colorbar": {
              "outlinewidth": 0,
              "ticks": ""
             }
            },
            "marker": {
             "colorbar": {
              "outlinewidth": 0,
              "ticks": ""
             }
            },
            "type": "scatter3d"
           }
          ],
          "scattercarpet": [
           {
            "marker": {
             "colorbar": {
              "outlinewidth": 0,
              "ticks": ""
             }
            },
            "type": "scattercarpet"
           }
          ],
          "scattergeo": [
           {
            "marker": {
             "colorbar": {
              "outlinewidth": 0,
              "ticks": ""
             }
            },
            "type": "scattergeo"
           }
          ],
          "scattergl": [
           {
            "marker": {
             "colorbar": {
              "outlinewidth": 0,
              "ticks": ""
             }
            },
            "type": "scattergl"
           }
          ],
          "scattermapbox": [
           {
            "marker": {
             "colorbar": {
              "outlinewidth": 0,
              "ticks": ""
             }
            },
            "type": "scattermapbox"
           }
          ],
          "scatterpolar": [
           {
            "marker": {
             "colorbar": {
              "outlinewidth": 0,
              "ticks": ""
             }
            },
            "type": "scatterpolar"
           }
          ],
          "scatterpolargl": [
           {
            "marker": {
             "colorbar": {
              "outlinewidth": 0,
              "ticks": ""
             }
            },
            "type": "scatterpolargl"
           }
          ],
          "scatterternary": [
           {
            "marker": {
             "colorbar": {
              "outlinewidth": 0,
              "ticks": ""
             }
            },
            "type": "scatterternary"
           }
          ],
          "surface": [
           {
            "colorbar": {
             "outlinewidth": 0,
             "ticks": ""
            },
            "colorscale": [
             [
              0,
              "#0d0887"
             ],
             [
              0.1111111111111111,
              "#46039f"
             ],
             [
              0.2222222222222222,
              "#7201a8"
             ],
             [
              0.3333333333333333,
              "#9c179e"
             ],
             [
              0.4444444444444444,
              "#bd3786"
             ],
             [
              0.5555555555555556,
              "#d8576b"
             ],
             [
              0.6666666666666666,
              "#ed7953"
             ],
             [
              0.7777777777777778,
              "#fb9f3a"
             ],
             [
              0.8888888888888888,
              "#fdca26"
             ],
             [
              1,
              "#f0f921"
             ]
            ],
            "type": "surface"
           }
          ],
          "table": [
           {
            "cells": {
             "fill": {
              "color": "#EBF0F8"
             },
             "line": {
              "color": "white"
             }
            },
            "header": {
             "fill": {
              "color": "#C8D4E3"
             },
             "line": {
              "color": "white"
             }
            },
            "type": "table"
           }
          ]
         },
         "layout": {
          "annotationdefaults": {
           "arrowcolor": "#2a3f5f",
           "arrowhead": 0,
           "arrowwidth": 1
          },
          "coloraxis": {
           "colorbar": {
            "outlinewidth": 0,
            "ticks": ""
           }
          },
          "colorscale": {
           "diverging": [
            [
             0,
             "#8e0152"
            ],
            [
             0.1,
             "#c51b7d"
            ],
            [
             0.2,
             "#de77ae"
            ],
            [
             0.3,
             "#f1b6da"
            ],
            [
             0.4,
             "#fde0ef"
            ],
            [
             0.5,
             "#f7f7f7"
            ],
            [
             0.6,
             "#e6f5d0"
            ],
            [
             0.7,
             "#b8e186"
            ],
            [
             0.8,
             "#7fbc41"
            ],
            [
             0.9,
             "#4d9221"
            ],
            [
             1,
             "#276419"
            ]
           ],
           "sequential": [
            [
             0,
             "#0d0887"
            ],
            [
             0.1111111111111111,
             "#46039f"
            ],
            [
             0.2222222222222222,
             "#7201a8"
            ],
            [
             0.3333333333333333,
             "#9c179e"
            ],
            [
             0.4444444444444444,
             "#bd3786"
            ],
            [
             0.5555555555555556,
             "#d8576b"
            ],
            [
             0.6666666666666666,
             "#ed7953"
            ],
            [
             0.7777777777777778,
             "#fb9f3a"
            ],
            [
             0.8888888888888888,
             "#fdca26"
            ],
            [
             1,
             "#f0f921"
            ]
           ],
           "sequentialminus": [
            [
             0,
             "#0d0887"
            ],
            [
             0.1111111111111111,
             "#46039f"
            ],
            [
             0.2222222222222222,
             "#7201a8"
            ],
            [
             0.3333333333333333,
             "#9c179e"
            ],
            [
             0.4444444444444444,
             "#bd3786"
            ],
            [
             0.5555555555555556,
             "#d8576b"
            ],
            [
             0.6666666666666666,
             "#ed7953"
            ],
            [
             0.7777777777777778,
             "#fb9f3a"
            ],
            [
             0.8888888888888888,
             "#fdca26"
            ],
            [
             1,
             "#f0f921"
            ]
           ]
          },
          "colorway": [
           "#636efa",
           "#EF553B",
           "#00cc96",
           "#ab63fa",
           "#FFA15A",
           "#19d3f3",
           "#FF6692",
           "#B6E880",
           "#FF97FF",
           "#FECB52"
          ],
          "font": {
           "color": "#2a3f5f"
          },
          "geo": {
           "bgcolor": "white",
           "lakecolor": "white",
           "landcolor": "#E5ECF6",
           "showlakes": true,
           "showland": true,
           "subunitcolor": "white"
          },
          "hoverlabel": {
           "align": "left"
          },
          "hovermode": "closest",
          "mapbox": {
           "style": "light"
          },
          "paper_bgcolor": "white",
          "plot_bgcolor": "#E5ECF6",
          "polar": {
           "angularaxis": {
            "gridcolor": "white",
            "linecolor": "white",
            "ticks": ""
           },
           "bgcolor": "#E5ECF6",
           "radialaxis": {
            "gridcolor": "white",
            "linecolor": "white",
            "ticks": ""
           }
          },
          "scene": {
           "xaxis": {
            "backgroundcolor": "#E5ECF6",
            "gridcolor": "white",
            "gridwidth": 2,
            "linecolor": "white",
            "showbackground": true,
            "ticks": "",
            "zerolinecolor": "white"
           },
           "yaxis": {
            "backgroundcolor": "#E5ECF6",
            "gridcolor": "white",
            "gridwidth": 2,
            "linecolor": "white",
            "showbackground": true,
            "ticks": "",
            "zerolinecolor": "white"
           },
           "zaxis": {
            "backgroundcolor": "#E5ECF6",
            "gridcolor": "white",
            "gridwidth": 2,
            "linecolor": "white",
            "showbackground": true,
            "ticks": "",
            "zerolinecolor": "white"
           }
          },
          "shapedefaults": {
           "line": {
            "color": "#2a3f5f"
           }
          },
          "ternary": {
           "aaxis": {
            "gridcolor": "white",
            "linecolor": "white",
            "ticks": ""
           },
           "baxis": {
            "gridcolor": "white",
            "linecolor": "white",
            "ticks": ""
           },
           "bgcolor": "#E5ECF6",
           "caxis": {
            "gridcolor": "white",
            "linecolor": "white",
            "ticks": ""
           }
          },
          "title": {
           "x": 0.05
          },
          "xaxis": {
           "automargin": true,
           "gridcolor": "white",
           "linecolor": "white",
           "ticks": "",
           "title": {
            "standoff": 15
           },
           "zerolinecolor": "white",
           "zerolinewidth": 2
          },
          "yaxis": {
           "automargin": true,
           "gridcolor": "white",
           "linecolor": "white",
           "ticks": "",
           "title": {
            "standoff": 15
           },
           "zerolinecolor": "white",
           "zerolinewidth": 2
          }
         }
        },
        "title": {
         "text": "Variation in S&P 500 Dividends since 1988"
        },
        "xaxis": {
         "anchor": "y",
         "domain": [
          0,
          1
         ],
         "rangeselector": {
          "buttons": [
           {
            "count": 1,
            "label": "1y",
            "step": "year",
            "stepmode": "backward"
           },
           {
            "count": 5,
            "label": "5y",
            "step": "year",
            "stepmode": "backward"
           },
           {
            "step": "all"
           }
          ]
         },
         "rangeslider": {
          "visible": true
         },
         "title": {
          "text": "DATE"
         },
         "type": "date"
        },
        "yaxis": {
         "anchor": "x",
         "domain": [
          0,
          1
         ],
         "title": {
          "text": "Divident per share ($)"
         }
        }
       }
      },
      "text/html": [
       "<div>                            <div id=\"88bc9728-6c17-4576-bb36-70bfa21990e7\" class=\"plotly-graph-div\" style=\"height:525px; width:100%;\"></div>            <script type=\"text/javascript\">                require([\"plotly\"], function(Plotly) {                    window.PLOTLYENV=window.PLOTLYENV || {};                                    if (document.getElementById(\"88bc9728-6c17-4576-bb36-70bfa21990e7\")) {                    Plotly.newPlot(                        \"88bc9728-6c17-4576-bb36-70bfa21990e7\",                        [{\"hovertemplate\": \"variable=CASH_DIVIDENDS_PER_SHARE<br>DATE=%{x}<br>Divident per share ($)=%{y}<extra></extra>\", \"legendgroup\": \"CASH_DIVIDENDS_PER_SHARE\", \"line\": {\"color\": \"#636efa\", \"dash\": \"solid\"}, \"mode\": \"lines\", \"name\": \"CASH_DIVIDENDS_PER_SHARE\", \"orientation\": \"v\", \"showlegend\": true, \"type\": \"scatter\", \"x\": [\"1988-03-31T00:00:00\", \"1988-06-30T00:00:00\", \"1988-09-30T00:00:00\", \"1988-12-31T00:00:00\", \"1989-03-31T00:00:00\", \"1989-06-30T00:00:00\", \"1989-09-30T00:00:00\", \"1989-12-31T00:00:00\", \"1990-03-31T00:00:00\", \"1990-06-30T00:00:00\", \"1990-09-30T00:00:00\", \"1990-12-31T00:00:00\", \"1991-03-31T00:00:00\", \"1991-06-30T00:00:00\", \"1991-09-30T00:00:00\", \"1991-12-31T00:00:00\", \"1992-03-31T00:00:00\", \"1992-06-30T00:00:00\", \"1992-09-30T00:00:00\", \"1992-12-31T00:00:00\", \"1993-03-31T00:00:00\", \"1993-06-30T00:00:00\", \"1993-09-30T00:00:00\", \"1993-12-31T00:00:00\", \"1994-03-31T00:00:00\", \"1994-06-30T00:00:00\", \"1994-09-30T00:00:00\", \"1994-12-31T00:00:00\", \"1995-03-31T00:00:00\", \"1995-06-30T00:00:00\", \"1995-09-30T00:00:00\", \"1995-12-31T00:00:00\", \"1996-03-31T00:00:00\", \"1996-06-30T00:00:00\", \"1996-09-30T00:00:00\", \"1996-12-31T00:00:00\", \"1997-03-31T00:00:00\", \"1997-06-30T00:00:00\", \"1997-09-30T00:00:00\", \"1997-12-31T00:00:00\", \"1998-03-31T00:00:00\", \"1998-06-30T00:00:00\", \"1998-09-30T00:00:00\", \"1998-12-31T00:00:00\", \"1999-03-31T00:00:00\", \"1999-06-30T00:00:00\", \"1999-09-30T00:00:00\", \"1999-12-31T00:00:00\", \"2000-03-31T00:00:00\", \"2000-06-30T00:00:00\", \"2000-09-30T00:00:00\", \"2000-12-31T00:00:00\", \"2001-03-31T00:00:00\", \"2001-06-30T00:00:00\", \"2001-09-30T00:00:00\", \"2001-12-31T00:00:00\", \"2002-03-31T00:00:00\", \"2002-06-30T00:00:00\", \"2002-09-30T00:00:00\", \"2002-12-31T00:00:00\", \"2003-03-31T00:00:00\", \"2003-06-30T00:00:00\", \"2003-09-30T00:00:00\", \"2003-12-31T00:00:00\", \"2004-03-31T00:00:00\", \"2004-06-30T00:00:00\", \"2004-09-30T00:00:00\", \"2004-12-31T00:00:00\", \"2005-03-31T00:00:00\", \"2005-06-30T00:00:00\", \"2005-09-30T00:00:00\", \"2005-12-31T00:00:00\", \"2006-03-31T00:00:00\", \"2006-06-30T00:00:00\", \"2006-09-30T00:00:00\", \"2006-12-31T00:00:00\", \"2007-03-31T00:00:00\", \"2007-06-30T00:00:00\", \"2007-09-30T00:00:00\", \"2007-12-31T00:00:00\", \"2008-03-31T00:00:00\", \"2008-06-30T00:00:00\", \"2008-09-30T00:00:00\", \"2008-12-31T00:00:00\", \"2009-03-31T00:00:00\", \"2009-06-30T00:00:00\", \"2009-09-30T00:00:00\", \"2009-12-31T00:00:00\", \"2010-03-31T00:00:00\", \"2010-06-30T00:00:00\", \"2010-09-30T00:00:00\", \"2010-12-31T00:00:00\", \"2011-03-31T00:00:00\", \"2011-06-30T00:00:00\", \"2011-09-30T00:00:00\", \"2011-12-31T00:00:00\", \"2012-03-31T00:00:00\", \"2012-06-30T00:00:00\", \"2012-09-30T00:00:00\", \"2012-12-31T00:00:00\", \"2013-03-31T00:00:00\", \"2013-06-30T00:00:00\", \"2013-09-30T00:00:00\", \"2013-12-31T00:00:00\", \"2014-03-31T00:00:00\", \"2014-06-30T00:00:00\", \"2014-09-30T00:00:00\", \"2014-12-31T00:00:00\", \"2015-03-31T00:00:00\", \"2015-06-30T00:00:00\", \"2015-09-30T00:00:00\", \"2015-12-31T00:00:00\", \"2016-03-31T00:00:00\", \"2016-06-30T00:00:00\", \"2016-09-30T00:00:00\", \"2016-12-31T00:00:00\", \"2017-03-31T00:00:00\", \"2017-06-30T00:00:00\", \"2017-09-30T00:00:00\", \"2017-12-29T00:00:00\", \"2018-03-29T00:00:00\", \"2018-06-29T00:00:00\", \"2018-09-28T00:00:00\", \"2018-12-31T00:00:00\", \"2019-03-29T00:00:00\", \"2019-06-28T00:00:00\", \"2019-09-30T00:00:00\", \"2019-12-31T00:00:00\", \"2020-03-31T00:00:00\", \"2020-06-30T00:00:00\", \"2020-09-30T00:00:00\", \"2020-12-31T00:00:00\"], \"xaxis\": \"x\", \"y\": [2.24, 2.5, 2.46, 2.54, 2.5, 2.86, 2.83, 2.86, 2.77, 3.21, 3.0, 3.12, 2.79, 3.24, 3.13, 3.04, 2.91, 3.24, 3.2, 3.03, 3.01, 3.28, 3.2, 3.09, 3.14, 3.41, 3.29, 3.34, 3.14, 3.6, 3.5, 3.55, 3.45, 3.77, 3.89, 3.79, 3.61, 3.87, 4.06, 3.95, 3.76, 4.18, 4.26, 4.0, 4.01, 4.18, 4.45, 4.05, 4.08, 4.12, 4.09, 3.98, 3.78, 3.84, 4.14, 3.98, 3.77, 4.15, 3.9, 4.26, 3.92, 4.09, 4.32, 5.06, 4.56, 4.66, 4.88, 5.33, 5.34, 5.36, 5.43, 6.08, 5.91, 6.02, 6.09, 6.87, 6.52, 6.69, 6.9, 7.62, 7.09, 7.1, 7.04, 7.15, 5.96, 5.44, 5.35, 5.66, 5.46, 5.58, 5.66, 6.03, 6.16, 6.49, 6.5, 7.28, 7.09, 7.45, 7.77, 8.93, 7.95, 8.61, 8.91, 9.52, 9.19, 9.76, 10.02, 10.47, 10.55, 10.69, 10.79, 11.35, 11.04, 11.28, 11.36, 12.02, 11.72, 12.12, 12.31, 12.78, 12.79, 13.1, 13.66, 14.19, 13.98, 14.24, 14.8, 15.21, 15.32, 14.35, 13.97, 14.64], \"yaxis\": \"y\"}, {\"hovertemplate\": \"variable=ROLLING_AVERAGE_DIVIDENDS PER SHARE<br>DATE=%{x}<br>Divident per share ($)=%{y}<extra></extra>\", \"legendgroup\": \"ROLLING_AVERAGE_DIVIDENDS PER SHARE\", \"line\": {\"color\": \"#EF553B\", \"dash\": \"solid\"}, \"mode\": \"lines\", \"name\": \"ROLLING_AVERAGE_DIVIDENDS PER SHARE\", \"orientation\": \"v\", \"showlegend\": true, \"type\": \"scatter\", \"x\": [\"1988-03-31T00:00:00\", \"1988-06-30T00:00:00\", \"1988-09-30T00:00:00\", \"1988-12-31T00:00:00\", \"1989-03-31T00:00:00\", \"1989-06-30T00:00:00\", \"1989-09-30T00:00:00\", \"1989-12-31T00:00:00\", \"1990-03-31T00:00:00\", \"1990-06-30T00:00:00\", \"1990-09-30T00:00:00\", \"1990-12-31T00:00:00\", \"1991-03-31T00:00:00\", \"1991-06-30T00:00:00\", \"1991-09-30T00:00:00\", \"1991-12-31T00:00:00\", \"1992-03-31T00:00:00\", \"1992-06-30T00:00:00\", \"1992-09-30T00:00:00\", \"1992-12-31T00:00:00\", \"1993-03-31T00:00:00\", \"1993-06-30T00:00:00\", \"1993-09-30T00:00:00\", \"1993-12-31T00:00:00\", \"1994-03-31T00:00:00\", \"1994-06-30T00:00:00\", \"1994-09-30T00:00:00\", \"1994-12-31T00:00:00\", \"1995-03-31T00:00:00\", \"1995-06-30T00:00:00\", \"1995-09-30T00:00:00\", \"1995-12-31T00:00:00\", \"1996-03-31T00:00:00\", \"1996-06-30T00:00:00\", \"1996-09-30T00:00:00\", \"1996-12-31T00:00:00\", \"1997-03-31T00:00:00\", \"1997-06-30T00:00:00\", \"1997-09-30T00:00:00\", \"1997-12-31T00:00:00\", \"1998-03-31T00:00:00\", \"1998-06-30T00:00:00\", \"1998-09-30T00:00:00\", \"1998-12-31T00:00:00\", \"1999-03-31T00:00:00\", \"1999-06-30T00:00:00\", \"1999-09-30T00:00:00\", \"1999-12-31T00:00:00\", \"2000-03-31T00:00:00\", \"2000-06-30T00:00:00\", \"2000-09-30T00:00:00\", \"2000-12-31T00:00:00\", \"2001-03-31T00:00:00\", \"2001-06-30T00:00:00\", \"2001-09-30T00:00:00\", \"2001-12-31T00:00:00\", \"2002-03-31T00:00:00\", \"2002-06-30T00:00:00\", \"2002-09-30T00:00:00\", \"2002-12-31T00:00:00\", \"2003-03-31T00:00:00\", \"2003-06-30T00:00:00\", \"2003-09-30T00:00:00\", \"2003-12-31T00:00:00\", \"2004-03-31T00:00:00\", \"2004-06-30T00:00:00\", \"2004-09-30T00:00:00\", \"2004-12-31T00:00:00\", \"2005-03-31T00:00:00\", \"2005-06-30T00:00:00\", \"2005-09-30T00:00:00\", \"2005-12-31T00:00:00\", \"2006-03-31T00:00:00\", \"2006-06-30T00:00:00\", \"2006-09-30T00:00:00\", \"2006-12-31T00:00:00\", \"2007-03-31T00:00:00\", \"2007-06-30T00:00:00\", \"2007-09-30T00:00:00\", \"2007-12-31T00:00:00\", \"2008-03-31T00:00:00\", \"2008-06-30T00:00:00\", \"2008-09-30T00:00:00\", \"2008-12-31T00:00:00\", \"2009-03-31T00:00:00\", \"2009-06-30T00:00:00\", \"2009-09-30T00:00:00\", \"2009-12-31T00:00:00\", \"2010-03-31T00:00:00\", \"2010-06-30T00:00:00\", \"2010-09-30T00:00:00\", \"2010-12-31T00:00:00\", \"2011-03-31T00:00:00\", \"2011-06-30T00:00:00\", \"2011-09-30T00:00:00\", \"2011-12-31T00:00:00\", \"2012-03-31T00:00:00\", \"2012-06-30T00:00:00\", \"2012-09-30T00:00:00\", \"2012-12-31T00:00:00\", \"2013-03-31T00:00:00\", \"2013-06-30T00:00:00\", \"2013-09-30T00:00:00\", \"2013-12-31T00:00:00\", \"2014-03-31T00:00:00\", \"2014-06-30T00:00:00\", \"2014-09-30T00:00:00\", \"2014-12-31T00:00:00\", \"2015-03-31T00:00:00\", \"2015-06-30T00:00:00\", \"2015-09-30T00:00:00\", \"2015-12-31T00:00:00\", \"2016-03-31T00:00:00\", \"2016-06-30T00:00:00\", \"2016-09-30T00:00:00\", \"2016-12-31T00:00:00\", \"2017-03-31T00:00:00\", \"2017-06-30T00:00:00\", \"2017-09-30T00:00:00\", \"2017-12-29T00:00:00\", \"2018-03-29T00:00:00\", \"2018-06-29T00:00:00\", \"2018-09-28T00:00:00\", \"2018-12-31T00:00:00\", \"2019-03-29T00:00:00\", \"2019-06-28T00:00:00\", \"2019-09-30T00:00:00\", \"2019-12-31T00:00:00\", \"2020-03-31T00:00:00\", \"2020-06-30T00:00:00\", \"2020-09-30T00:00:00\", \"2020-12-31T00:00:00\"], \"xaxis\": \"x\", \"y\": [null, null, null, null, null, null, null, null, null, 2.677, 2.753, 2.8150000000000004, 2.848, 2.918, 2.9810000000000003, 2.999, 3.0070000000000006, 3.045000000000001, 3.0880000000000014, 3.070000000000001, 3.0710000000000006, 3.0870000000000006, 3.128000000000001, 3.1130000000000004, 3.1140000000000003, 3.1510000000000007, 3.1890000000000005, 3.1990000000000003, 3.1930000000000005, 3.25, 3.2990000000000004, 3.3259999999999996, 3.351, 3.4189999999999996, 3.4939999999999998, 3.531999999999999, 3.563999999999999, 3.6169999999999987, 3.7089999999999987, 3.743999999999999, 3.7699999999999987, 3.8329999999999993, 3.913999999999999, 3.9369999999999985, 3.948999999999998, 3.987999999999998, 4.071999999999998, 4.089999999999998, 4.091999999999998, 4.108999999999997, 4.141999999999998, 4.121999999999998, 4.073999999999998, 4.057999999999998, 4.070999999999999, 4.050999999999998, 3.9829999999999983, 3.9929999999999986, 3.9749999999999988, 3.9889999999999985, 3.9719999999999986, 3.982999999999999, 4.036999999999999, 4.158999999999999, 4.200999999999999, 4.268999999999999, 4.379999999999999, 4.497999999999999, 4.6419999999999995, 4.752, 4.903, 5.101999999999999, 5.260999999999999, 5.356999999999999, 5.51, 5.730999999999999, 5.894999999999998, 6.030999999999999, 6.186999999999999, 6.412999999999999, 6.578999999999999, 6.680999999999999, 6.794, 6.907000000000001, 6.894, 6.7509999999999994, 6.633999999999999, 6.530999999999999, 6.386999999999999, 6.182999999999999, 6.039999999999999, 5.932999999999999, 5.845, 5.779, 5.832999999999999, 6.016999999999999, 6.190999999999999, 6.369999999999999, 6.600999999999999, 6.936, 7.165000000000001, 7.423, 7.698, 8.001000000000001, 8.27, 8.518, 8.811, 9.113, 9.391, 9.566999999999998, 9.850999999999997, 10.124999999999996, 10.337999999999997, 10.513999999999998, 10.730999999999998, 10.956999999999997, 11.126999999999997, 11.291999999999998, 11.467999999999998, 11.676999999999998, 11.876999999999999, 12.051999999999998, 12.313999999999998, 12.604999999999999, 12.866999999999996, 13.088999999999995, 13.396999999999997, 13.705999999999998, 14.006999999999996, 14.163999999999996, 14.281999999999996, 14.435999999999998], \"yaxis\": \"y\"}, {\"hovertemplate\": \"variable=POLY_REG_DIVS<br>DATE=%{x}<br>Divident per share ($)=%{y}<extra></extra>\", \"legendgroup\": \"POLY_REG_DIVS\", \"line\": {\"color\": \"#00cc96\", \"dash\": \"solid\"}, \"mode\": \"lines\", \"name\": \"POLY_REG_DIVS\", \"orientation\": \"v\", \"showlegend\": true, \"type\": \"scatter\", \"x\": [\"1988-03-31T00:00:00\", \"1988-06-30T00:00:00\", \"1988-09-30T00:00:00\", \"1988-12-31T00:00:00\", \"1989-03-31T00:00:00\", \"1989-06-30T00:00:00\", \"1989-09-30T00:00:00\", \"1989-12-31T00:00:00\", \"1990-03-31T00:00:00\", \"1990-06-30T00:00:00\", \"1990-09-30T00:00:00\", \"1990-12-31T00:00:00\", \"1991-03-31T00:00:00\", \"1991-06-30T00:00:00\", \"1991-09-30T00:00:00\", \"1991-12-31T00:00:00\", \"1992-03-31T00:00:00\", \"1992-06-30T00:00:00\", \"1992-09-30T00:00:00\", \"1992-12-31T00:00:00\", \"1993-03-31T00:00:00\", \"1993-06-30T00:00:00\", \"1993-09-30T00:00:00\", \"1993-12-31T00:00:00\", \"1994-03-31T00:00:00\", \"1994-06-30T00:00:00\", \"1994-09-30T00:00:00\", \"1994-12-31T00:00:00\", \"1995-03-31T00:00:00\", \"1995-06-30T00:00:00\", \"1995-09-30T00:00:00\", \"1995-12-31T00:00:00\", \"1996-03-31T00:00:00\", \"1996-06-30T00:00:00\", \"1996-09-30T00:00:00\", \"1996-12-31T00:00:00\", \"1997-03-31T00:00:00\", \"1997-06-30T00:00:00\", \"1997-09-30T00:00:00\", \"1997-12-31T00:00:00\", \"1998-03-31T00:00:00\", \"1998-06-30T00:00:00\", \"1998-09-30T00:00:00\", \"1998-12-31T00:00:00\", \"1999-03-31T00:00:00\", \"1999-06-30T00:00:00\", \"1999-09-30T00:00:00\", \"1999-12-31T00:00:00\", \"2000-03-31T00:00:00\", \"2000-06-30T00:00:00\", \"2000-09-30T00:00:00\", \"2000-12-31T00:00:00\", \"2001-03-31T00:00:00\", \"2001-06-30T00:00:00\", \"2001-09-30T00:00:00\", \"2001-12-31T00:00:00\", \"2002-03-31T00:00:00\", \"2002-06-30T00:00:00\", \"2002-09-30T00:00:00\", \"2002-12-31T00:00:00\", \"2003-03-31T00:00:00\", \"2003-06-30T00:00:00\", \"2003-09-30T00:00:00\", \"2003-12-31T00:00:00\", \"2004-03-31T00:00:00\", \"2004-06-30T00:00:00\", \"2004-09-30T00:00:00\", \"2004-12-31T00:00:00\", \"2005-03-31T00:00:00\", \"2005-06-30T00:00:00\", \"2005-09-30T00:00:00\", \"2005-12-31T00:00:00\", \"2006-03-31T00:00:00\", \"2006-06-30T00:00:00\", \"2006-09-30T00:00:00\", \"2006-12-31T00:00:00\", \"2007-03-31T00:00:00\", \"2007-06-30T00:00:00\", \"2007-09-30T00:00:00\", \"2007-12-31T00:00:00\", \"2008-03-31T00:00:00\", \"2008-06-30T00:00:00\", \"2008-09-30T00:00:00\", \"2008-12-31T00:00:00\", \"2009-03-31T00:00:00\", \"2009-06-30T00:00:00\", \"2009-09-30T00:00:00\", \"2009-12-31T00:00:00\", \"2010-03-31T00:00:00\", \"2010-06-30T00:00:00\", \"2010-09-30T00:00:00\", \"2010-12-31T00:00:00\", \"2011-03-31T00:00:00\", \"2011-06-30T00:00:00\", \"2011-09-30T00:00:00\", \"2011-12-31T00:00:00\", \"2012-03-31T00:00:00\", \"2012-06-30T00:00:00\", \"2012-09-30T00:00:00\", \"2012-12-31T00:00:00\", \"2013-03-31T00:00:00\", \"2013-06-30T00:00:00\", \"2013-09-30T00:00:00\", \"2013-12-31T00:00:00\", \"2014-03-31T00:00:00\", \"2014-06-30T00:00:00\", \"2014-09-30T00:00:00\", \"2014-12-31T00:00:00\", \"2015-03-31T00:00:00\", \"2015-06-30T00:00:00\", \"2015-09-30T00:00:00\", \"2015-12-31T00:00:00\", \"2016-03-31T00:00:00\", \"2016-06-30T00:00:00\", \"2016-09-30T00:00:00\", \"2016-12-31T00:00:00\", \"2017-03-31T00:00:00\", \"2017-06-30T00:00:00\", \"2017-09-30T00:00:00\", \"2017-12-29T00:00:00\", \"2018-03-29T00:00:00\", \"2018-06-29T00:00:00\", \"2018-09-28T00:00:00\", \"2018-12-31T00:00:00\", \"2019-03-29T00:00:00\", \"2019-06-28T00:00:00\", \"2019-09-30T00:00:00\", \"2019-12-31T00:00:00\", \"2020-03-31T00:00:00\", \"2020-06-30T00:00:00\", \"2020-09-30T00:00:00\", \"2020-12-31T00:00:00\"], \"xaxis\": \"x\", \"y\": [2.0572406593678556, 2.081203151108502, 2.1060942237193334, 2.1316632649461167, 2.157341229375843, 2.1839817369059946, 2.2116161987951624, 2.2399647704635393, 2.268396811947078, 2.2978571628586053, 2.3283784001629453, 2.359649888409751, 2.3909762759940074, 2.42339829787878, 2.456949696735128, 2.4912874876971998, 2.526034587848244, 2.5615688058505848, 2.5983026440044794, 2.6358591144442407, 2.673403892359323, 2.712183825087395, 2.7522349899057006, 2.7931449281731293, 2.8340052436284013, 2.876172718674074, 2.919684596293626, 2.964091388525558, 3.008407510567925, 3.0541043555230685, 3.1012203320807026, 3.1492673644139746, 3.197717006011999, 3.2470953013604875, 3.2979692270329375, 3.349810448661168, 3.401469420255023, 3.4546611292654683, 3.5094263189884027, 3.5651949458303753, 3.620730915450797, 3.677877865715069, 3.736677705625324, 3.7965171238178748, 3.856070360511767, 3.9173143796217356, 3.9802922558561473, 4.044345851536112, 4.108770385665569, 4.17426510944466, 4.241576444611155, 4.309999739403347, 4.37802028486939, 4.4478961212466634, 4.5196726578497195, 4.5925972952417276, 4.665056299220713, 4.7394550757880385, 4.815840199964489, 4.893409566093149, 4.970447297631983, 5.049510841981231, 5.130647939867911, 5.21300542087006, 5.295677198615403, 5.37956070190955, 5.465606768545584, 5.552909458477229, 5.639538958008876, 5.728371272837429, 5.819456478296098, 5.911834448213633, 6.0034638667446, 6.097386820699431, 6.193654551117568, 6.291251187157829, 6.388020793735023, 6.487176214408001, 6.588769855922443, 6.691728544222267, 6.7949199166679515, 6.899464550561607, 7.0065426706426726, 7.115022077689261, 7.222507911479927, 7.332569055844215, 7.445260252133989, 7.559388876552542, 7.6724360898289055, 7.788155572255698, 7.906603230891013, 8.026524458818367, 8.145273320627332, 8.266792968708499, 8.391140475826193, 8.516997693399183, 8.642981011629661, 8.770459127207282, 8.900866622708868, 9.03282006884589, 9.163409617088995, 9.29697194207347, 9.433566451169838, 9.571743052064903, 9.70845544028008, 9.848243802263283, 9.99116871109127, 10.135711852881208, 10.278687350115366, 10.42484357668917, 10.574242271385607, 10.725295340207257, 10.876342955306985, 11.029026903653023, 11.18506109655062, 11.342785903753573, 11.498726546642523, 11.658062403331645, 11.8208575472101, 11.98178445859589, 12.1443723934464, 12.31229907450771, 12.480125632006295, 12.655295841152807, 12.820961324688493, 12.99398809131197, 13.17455771440714, 13.353103956452937, 13.531488219506368, 13.711650351705273, 13.895608563974378, 14.08140205421875], \"yaxis\": \"y\"}],                        {\"legend\": {\"title\": {\"text\": \"variable\"}, \"tracegroupgap\": 0}, \"template\": {\"data\": {\"bar\": [{\"error_x\": {\"color\": \"#2a3f5f\"}, \"error_y\": {\"color\": \"#2a3f5f\"}, \"marker\": {\"line\": {\"color\": \"#E5ECF6\", \"width\": 0.5}}, \"type\": \"bar\"}], \"barpolar\": [{\"marker\": {\"line\": {\"color\": \"#E5ECF6\", \"width\": 0.5}}, \"type\": \"barpolar\"}], \"carpet\": [{\"aaxis\": {\"endlinecolor\": \"#2a3f5f\", \"gridcolor\": \"white\", \"linecolor\": \"white\", \"minorgridcolor\": \"white\", \"startlinecolor\": \"#2a3f5f\"}, \"baxis\": {\"endlinecolor\": \"#2a3f5f\", \"gridcolor\": \"white\", \"linecolor\": \"white\", \"minorgridcolor\": \"white\", \"startlinecolor\": \"#2a3f5f\"}, \"type\": \"carpet\"}], \"choropleth\": [{\"colorbar\": {\"outlinewidth\": 0, \"ticks\": \"\"}, \"type\": \"choropleth\"}], \"contour\": [{\"colorbar\": {\"outlinewidth\": 0, \"ticks\": \"\"}, \"colorscale\": [[0.0, \"#0d0887\"], [0.1111111111111111, \"#46039f\"], [0.2222222222222222, \"#7201a8\"], [0.3333333333333333, \"#9c179e\"], [0.4444444444444444, \"#bd3786\"], [0.5555555555555556, \"#d8576b\"], [0.6666666666666666, \"#ed7953\"], [0.7777777777777778, \"#fb9f3a\"], [0.8888888888888888, \"#fdca26\"], [1.0, \"#f0f921\"]], \"type\": \"contour\"}], \"contourcarpet\": [{\"colorbar\": {\"outlinewidth\": 0, \"ticks\": \"\"}, \"type\": \"contourcarpet\"}], \"heatmap\": [{\"colorbar\": {\"outlinewidth\": 0, \"ticks\": \"\"}, \"colorscale\": [[0.0, \"#0d0887\"], [0.1111111111111111, \"#46039f\"], [0.2222222222222222, \"#7201a8\"], [0.3333333333333333, \"#9c179e\"], [0.4444444444444444, \"#bd3786\"], [0.5555555555555556, \"#d8576b\"], [0.6666666666666666, \"#ed7953\"], [0.7777777777777778, \"#fb9f3a\"], [0.8888888888888888, \"#fdca26\"], [1.0, \"#f0f921\"]], \"type\": \"heatmap\"}], \"heatmapgl\": [{\"colorbar\": {\"outlinewidth\": 0, \"ticks\": \"\"}, \"colorscale\": [[0.0, \"#0d0887\"], [0.1111111111111111, \"#46039f\"], [0.2222222222222222, \"#7201a8\"], [0.3333333333333333, \"#9c179e\"], [0.4444444444444444, \"#bd3786\"], [0.5555555555555556, \"#d8576b\"], [0.6666666666666666, \"#ed7953\"], [0.7777777777777778, \"#fb9f3a\"], [0.8888888888888888, \"#fdca26\"], [1.0, \"#f0f921\"]], \"type\": \"heatmapgl\"}], \"histogram\": [{\"marker\": {\"colorbar\": {\"outlinewidth\": 0, \"ticks\": \"\"}}, \"type\": \"histogram\"}], \"histogram2d\": [{\"colorbar\": {\"outlinewidth\": 0, \"ticks\": \"\"}, \"colorscale\": [[0.0, \"#0d0887\"], [0.1111111111111111, \"#46039f\"], [0.2222222222222222, \"#7201a8\"], [0.3333333333333333, \"#9c179e\"], [0.4444444444444444, \"#bd3786\"], [0.5555555555555556, \"#d8576b\"], [0.6666666666666666, \"#ed7953\"], [0.7777777777777778, \"#fb9f3a\"], [0.8888888888888888, \"#fdca26\"], [1.0, \"#f0f921\"]], \"type\": \"histogram2d\"}], \"histogram2dcontour\": [{\"colorbar\": {\"outlinewidth\": 0, \"ticks\": \"\"}, \"colorscale\": [[0.0, \"#0d0887\"], [0.1111111111111111, \"#46039f\"], [0.2222222222222222, \"#7201a8\"], [0.3333333333333333, \"#9c179e\"], [0.4444444444444444, \"#bd3786\"], [0.5555555555555556, \"#d8576b\"], [0.6666666666666666, \"#ed7953\"], [0.7777777777777778, \"#fb9f3a\"], [0.8888888888888888, \"#fdca26\"], [1.0, \"#f0f921\"]], \"type\": \"histogram2dcontour\"}], \"mesh3d\": [{\"colorbar\": {\"outlinewidth\": 0, \"ticks\": \"\"}, \"type\": \"mesh3d\"}], \"parcoords\": [{\"line\": {\"colorbar\": {\"outlinewidth\": 0, \"ticks\": \"\"}}, \"type\": \"parcoords\"}], \"pie\": [{\"automargin\": true, \"type\": \"pie\"}], \"scatter\": [{\"marker\": {\"colorbar\": {\"outlinewidth\": 0, \"ticks\": \"\"}}, \"type\": \"scatter\"}], \"scatter3d\": [{\"line\": {\"colorbar\": {\"outlinewidth\": 0, \"ticks\": \"\"}}, \"marker\": {\"colorbar\": {\"outlinewidth\": 0, \"ticks\": \"\"}}, \"type\": \"scatter3d\"}], \"scattercarpet\": [{\"marker\": {\"colorbar\": {\"outlinewidth\": 0, \"ticks\": \"\"}}, \"type\": \"scattercarpet\"}], \"scattergeo\": [{\"marker\": {\"colorbar\": {\"outlinewidth\": 0, \"ticks\": \"\"}}, \"type\": \"scattergeo\"}], \"scattergl\": [{\"marker\": {\"colorbar\": {\"outlinewidth\": 0, \"ticks\": \"\"}}, \"type\": \"scattergl\"}], \"scattermapbox\": [{\"marker\": {\"colorbar\": {\"outlinewidth\": 0, \"ticks\": \"\"}}, \"type\": \"scattermapbox\"}], \"scatterpolar\": [{\"marker\": {\"colorbar\": {\"outlinewidth\": 0, \"ticks\": \"\"}}, \"type\": \"scatterpolar\"}], \"scatterpolargl\": [{\"marker\": {\"colorbar\": {\"outlinewidth\": 0, \"ticks\": \"\"}}, \"type\": \"scatterpolargl\"}], \"scatterternary\": [{\"marker\": {\"colorbar\": {\"outlinewidth\": 0, \"ticks\": \"\"}}, \"type\": \"scatterternary\"}], \"surface\": [{\"colorbar\": {\"outlinewidth\": 0, \"ticks\": \"\"}, \"colorscale\": [[0.0, \"#0d0887\"], [0.1111111111111111, \"#46039f\"], [0.2222222222222222, \"#7201a8\"], [0.3333333333333333, \"#9c179e\"], [0.4444444444444444, \"#bd3786\"], [0.5555555555555556, \"#d8576b\"], [0.6666666666666666, \"#ed7953\"], [0.7777777777777778, \"#fb9f3a\"], [0.8888888888888888, \"#fdca26\"], [1.0, \"#f0f921\"]], \"type\": \"surface\"}], \"table\": [{\"cells\": {\"fill\": {\"color\": \"#EBF0F8\"}, \"line\": {\"color\": \"white\"}}, \"header\": {\"fill\": {\"color\": \"#C8D4E3\"}, \"line\": {\"color\": \"white\"}}, \"type\": \"table\"}]}, \"layout\": {\"annotationdefaults\": {\"arrowcolor\": \"#2a3f5f\", \"arrowhead\": 0, \"arrowwidth\": 1}, \"coloraxis\": {\"colorbar\": {\"outlinewidth\": 0, \"ticks\": \"\"}}, \"colorscale\": {\"diverging\": [[0, \"#8e0152\"], [0.1, \"#c51b7d\"], [0.2, \"#de77ae\"], [0.3, \"#f1b6da\"], [0.4, \"#fde0ef\"], [0.5, \"#f7f7f7\"], [0.6, \"#e6f5d0\"], [0.7, \"#b8e186\"], [0.8, \"#7fbc41\"], [0.9, \"#4d9221\"], [1, \"#276419\"]], \"sequential\": [[0.0, \"#0d0887\"], [0.1111111111111111, \"#46039f\"], [0.2222222222222222, \"#7201a8\"], [0.3333333333333333, \"#9c179e\"], [0.4444444444444444, \"#bd3786\"], [0.5555555555555556, \"#d8576b\"], [0.6666666666666666, \"#ed7953\"], [0.7777777777777778, \"#fb9f3a\"], [0.8888888888888888, \"#fdca26\"], [1.0, \"#f0f921\"]], \"sequentialminus\": [[0.0, \"#0d0887\"], [0.1111111111111111, \"#46039f\"], [0.2222222222222222, \"#7201a8\"], [0.3333333333333333, \"#9c179e\"], [0.4444444444444444, \"#bd3786\"], [0.5555555555555556, \"#d8576b\"], [0.6666666666666666, \"#ed7953\"], [0.7777777777777778, \"#fb9f3a\"], [0.8888888888888888, \"#fdca26\"], [1.0, \"#f0f921\"]]}, \"colorway\": [\"#636efa\", \"#EF553B\", \"#00cc96\", \"#ab63fa\", \"#FFA15A\", \"#19d3f3\", \"#FF6692\", \"#B6E880\", \"#FF97FF\", \"#FECB52\"], \"font\": {\"color\": \"#2a3f5f\"}, \"geo\": {\"bgcolor\": \"white\", \"lakecolor\": \"white\", \"landcolor\": \"#E5ECF6\", \"showlakes\": true, \"showland\": true, \"subunitcolor\": \"white\"}, \"hoverlabel\": {\"align\": \"left\"}, \"hovermode\": \"closest\", \"mapbox\": {\"style\": \"light\"}, \"paper_bgcolor\": \"white\", \"plot_bgcolor\": \"#E5ECF6\", \"polar\": {\"angularaxis\": {\"gridcolor\": \"white\", \"linecolor\": \"white\", \"ticks\": \"\"}, \"bgcolor\": \"#E5ECF6\", \"radialaxis\": {\"gridcolor\": \"white\", \"linecolor\": \"white\", \"ticks\": \"\"}}, \"scene\": {\"xaxis\": {\"backgroundcolor\": \"#E5ECF6\", \"gridcolor\": \"white\", \"gridwidth\": 2, \"linecolor\": \"white\", \"showbackground\": true, \"ticks\": \"\", \"zerolinecolor\": \"white\"}, \"yaxis\": {\"backgroundcolor\": \"#E5ECF6\", \"gridcolor\": \"white\", \"gridwidth\": 2, \"linecolor\": \"white\", \"showbackground\": true, \"ticks\": \"\", \"zerolinecolor\": \"white\"}, \"zaxis\": {\"backgroundcolor\": \"#E5ECF6\", \"gridcolor\": \"white\", \"gridwidth\": 2, \"linecolor\": \"white\", \"showbackground\": true, \"ticks\": \"\", \"zerolinecolor\": \"white\"}}, \"shapedefaults\": {\"line\": {\"color\": \"#2a3f5f\"}}, \"ternary\": {\"aaxis\": {\"gridcolor\": \"white\", \"linecolor\": \"white\", \"ticks\": \"\"}, \"baxis\": {\"gridcolor\": \"white\", \"linecolor\": \"white\", \"ticks\": \"\"}, \"bgcolor\": \"#E5ECF6\", \"caxis\": {\"gridcolor\": \"white\", \"linecolor\": \"white\", \"ticks\": \"\"}}, \"title\": {\"x\": 0.05}, \"xaxis\": {\"automargin\": true, \"gridcolor\": \"white\", \"linecolor\": \"white\", \"ticks\": \"\", \"title\": {\"standoff\": 15}, \"zerolinecolor\": \"white\", \"zerolinewidth\": 2}, \"yaxis\": {\"automargin\": true, \"gridcolor\": \"white\", \"linecolor\": \"white\", \"ticks\": \"\", \"title\": {\"standoff\": 15}, \"zerolinecolor\": \"white\", \"zerolinewidth\": 2}}}, \"title\": {\"text\": \"Variation in S&P 500 Dividends since 1988\"}, \"xaxis\": {\"anchor\": \"y\", \"domain\": [0.0, 1.0], \"rangeselector\": {\"buttons\": [{\"count\": 1, \"label\": \"1y\", \"step\": \"year\", \"stepmode\": \"backward\"}, {\"count\": 5, \"label\": \"5y\", \"step\": \"year\", \"stepmode\": \"backward\"}, {\"step\": \"all\"}]}, \"rangeslider\": {\"visible\": true}, \"title\": {\"text\": \"DATE\"}, \"type\": \"date\"}, \"yaxis\": {\"anchor\": \"x\", \"domain\": [0.0, 1.0], \"title\": {\"text\": \"Divident per share ($)\"}}},                        {\"responsive\": true}                    ).then(function(){\n",
       "                            \n",
       "var gd = document.getElementById('88bc9728-6c17-4576-bb36-70bfa21990e7');\n",
       "var x = new MutationObserver(function (mutations, observer) {{\n",
       "        var display = window.getComputedStyle(gd).display;\n",
       "        if (!display || display === 'none') {{\n",
       "            console.log([gd, 'removed!']);\n",
       "            Plotly.purge(gd);\n",
       "            observer.disconnect();\n",
       "        }}\n",
       "}});\n",
       "\n",
       "// Listen for the removal of the full notebook cells\n",
       "var notebookContainer = gd.closest('#notebook-container');\n",
       "if (notebookContainer) {{\n",
       "    x.observe(notebookContainer, {childList: true});\n",
       "}}\n",
       "\n",
       "// Listen for the clearing of the current output cell\n",
       "var outputEl = gd.closest('.output');\n",
       "if (outputEl) {{\n",
       "    x.observe(outputEl, {childList: true});\n",
       "}}\n",
       "\n",
       "                        })                };                });            </script>        </div>"
      ]
     },
     "metadata": {},
     "output_type": "display_data"
    }
   ],
   "source": [
    "plot = px.line(Quarterly,x = 'DATE', y = [\"CASH_DIVIDENDS_PER_SHARE\",\"ROLLING_AVERAGE_DIVIDENDS PER SHARE\",'POLY_REG_DIVS'],\n",
    "              labels={\n",
    "                         \"value\": \"Divident per share ($)\"\n",
    "                     },\n",
    "              title=\"Variation in S&P 500 Dividends since 1988\")\n",
    "range_slider(plot,buttons)\n",
    "plot.show()"
   ]
  }
 ],
 "metadata": {
  "kernelspec": {
   "display_name": "Python 3",
   "language": "python",
   "name": "python3"
  },
  "language_info": {
   "codemirror_mode": {
    "name": "ipython",
    "version": 3
   },
   "file_extension": ".py",
   "mimetype": "text/x-python",
   "name": "python",
   "nbconvert_exporter": "python",
   "pygments_lexer": "ipython3",
   "version": "3.7.6"
  }
 },
 "nbformat": 4,
 "nbformat_minor": 4
}
